{
  "cells": [
    {
      "cell_type": "code",
      "execution_count": null,
      "metadata": {
        "colab": {
          "base_uri": "https://localhost:8080/"
        },
        "id": "Kw2IGpq5gVak",
        "outputId": "c4e34cec-941c-4a4a-acab-73d9daeb321f"
      },
      "outputs": [
        {
          "output_type": "stream",
          "name": "stdout",
          "text": [
            "Drive already mounted at /content/drive; to attempt to forcibly remount, call drive.mount(\"/content/drive\", force_remount=True).\n"
          ]
        }
      ],
      "source": [
        "from google.colab import drive\n",
        "drive.mount('/content/drive')"
      ]
    },
    {
      "cell_type": "code",
      "execution_count": null,
      "metadata": {
        "colab": {
          "base_uri": "https://localhost:8080/"
        },
        "id": "_14DZSI-hJpL",
        "outputId": "7bb8bfb0-1f6f-40d7-d82e-2231d9d16358"
      },
      "outputs": [
        {
          "output_type": "stream",
          "name": "stdout",
          "text": [
            "Annotations.zip\t\ttrain_1000.zip\t vgg16_featues.mat\n",
            "label_encoder_lstm.pkl\ttrain_small.zip  vgg16_featues_train_1000.mat\n",
            "test_small.zip\t\ttrain_sub.zip\t vgg16_featues_val_small.mat\n",
            "test_sub.zip\t\tval_small.zip\t vgg16_featues_val_sub.mat\n",
            "test.zip\t\tval_sub.zip\t vgg_feats.mat\n"
          ]
        }
      ],
      "source": [
        "!ls \"/content/drive/MyDrive/dataset_VQA\""
      ]
    },
    {
      "cell_type": "code",
      "execution_count": null,
      "metadata": {
        "colab": {
          "base_uri": "https://localhost:8080/"
        },
        "id": "sUsot4NTh2Eq",
        "outputId": "673e7440-4fd8-463c-d51a-6e783b7718d7"
      },
      "outputs": [
        {
          "output_type": "stream",
          "name": "stdout",
          "text": [
            "Archive:  /content/drive/MyDrive/dataset_VQA/Annotations.zip\n",
            "replace Annotations/val.json? [y]es, [n]o, [A]ll, [N]one, [r]ename: N\n",
            "Archive:  /content/drive/MyDrive/dataset_VQA/train_1000.zip\n",
            "replace train_1000/VizWiz_train_00000000.jpg? [y]es, [n]o, [A]ll, [N]one, [r]ename: N\n",
            "Archive:  /content/drive/MyDrive/dataset_VQA/train_small.zip\n",
            "replace train_small/VizWiz_train_00000007.jpg? [y]es, [n]o, [A]ll, [N]one, [r]ename: N\n",
            "Archive:  /content/drive/MyDrive/dataset_VQA/val_small.zip\n",
            "replace val_small/VizWiz_val_00000002.jpg? [y]es, [n]o, [A]ll, [N]one, [r]ename: N\n",
            "test.json  train.json  val.json\n"
          ]
        }
      ],
      "source": [
        "!unzip \"/content/drive/MyDrive/dataset_VQA/Annotations.zip\"\n",
        "!unzip \"/content/drive/MyDrive/dataset_VQA/train_1000.zip\"\n",
        "!unzip \"/content/drive/MyDrive/dataset_VQA/train_small.zip\"\n",
        "!unzip \"/content/drive/MyDrive/dataset_VQA/val_small.zip\"\n",
        "!ls Annotations"
      ]
    },
    {
      "cell_type": "code",
      "execution_count": null,
      "metadata": {
        "id": "_n_CSKvIM8oG"
      },
      "outputs": [],
      "source": [
        "import json\n",
        "import spacy\n",
        "import progressbar\n",
        "import cv2\n",
        "import matplotlib.pyplot as plt\n",
        "%matplotlib inline\n",
        "import operator\n",
        "\n",
        "from os import listdir\n",
        "from PIL import Image as PImage\n",
        "from keras.preprocessing.image import load_img\n",
        "from keras.preprocessing.image import img_to_array\n",
        "from keras.applications.vgg16 import preprocess_input\n",
        "from keras.applications.vgg16 import decode_predictions\n",
        "from keras.applications.vgg16 import VGG16\n",
        "from keras.models import Model\n",
        "from pickle import dump\n",
        "import numpy as np\n",
        "from pathlib import Path"
      ]
    },
    {
      "cell_type": "code",
      "execution_count": null,
      "metadata": {
        "colab": {
          "base_uri": "https://localhost:8080/"
        },
        "id": "oXmtu0ktm-lV",
        "outputId": "6898d1c8-f7cc-43cf-b7f7-d28524e08e99"
      },
      "outputs": [
        {
          "output_type": "stream",
          "name": "stdout",
          "text": [
            "Collecting en_core_web_md==2.2.5\n",
            "  Downloading https://github.com/explosion/spacy-models/releases/download/en_core_web_md-2.2.5/en_core_web_md-2.2.5.tar.gz (96.4 MB)\n",
            "\u001b[K     |████████████████████████████████| 96.4 MB 1.1 MB/s \n",
            "\u001b[?25hRequirement already satisfied: spacy>=2.2.2 in /usr/local/lib/python3.7/dist-packages (from en_core_web_md==2.2.5) (2.2.4)\n",
            "Requirement already satisfied: requests<3.0.0,>=2.13.0 in /usr/local/lib/python3.7/dist-packages (from spacy>=2.2.2->en_core_web_md==2.2.5) (2.23.0)\n",
            "Requirement already satisfied: wasabi<1.1.0,>=0.4.0 in /usr/local/lib/python3.7/dist-packages (from spacy>=2.2.2->en_core_web_md==2.2.5) (0.9.0)\n",
            "Requirement already satisfied: cymem<2.1.0,>=2.0.2 in /usr/local/lib/python3.7/dist-packages (from spacy>=2.2.2->en_core_web_md==2.2.5) (2.0.6)\n",
            "Requirement already satisfied: setuptools in /usr/local/lib/python3.7/dist-packages (from spacy>=2.2.2->en_core_web_md==2.2.5) (57.4.0)\n",
            "Requirement already satisfied: preshed<3.1.0,>=3.0.2 in /usr/local/lib/python3.7/dist-packages (from spacy>=2.2.2->en_core_web_md==2.2.5) (3.0.6)\n",
            "Requirement already satisfied: tqdm<5.0.0,>=4.38.0 in /usr/local/lib/python3.7/dist-packages (from spacy>=2.2.2->en_core_web_md==2.2.5) (4.62.3)\n",
            "Requirement already satisfied: numpy>=1.15.0 in /usr/local/lib/python3.7/dist-packages (from spacy>=2.2.2->en_core_web_md==2.2.5) (1.19.5)\n",
            "Requirement already satisfied: thinc==7.4.0 in /usr/local/lib/python3.7/dist-packages (from spacy>=2.2.2->en_core_web_md==2.2.5) (7.4.0)\n",
            "Requirement already satisfied: murmurhash<1.1.0,>=0.28.0 in /usr/local/lib/python3.7/dist-packages (from spacy>=2.2.2->en_core_web_md==2.2.5) (1.0.6)\n",
            "Requirement already satisfied: plac<1.2.0,>=0.9.6 in /usr/local/lib/python3.7/dist-packages (from spacy>=2.2.2->en_core_web_md==2.2.5) (1.1.3)\n",
            "Requirement already satisfied: catalogue<1.1.0,>=0.0.7 in /usr/local/lib/python3.7/dist-packages (from spacy>=2.2.2->en_core_web_md==2.2.5) (1.0.0)\n",
            "Requirement already satisfied: srsly<1.1.0,>=1.0.2 in /usr/local/lib/python3.7/dist-packages (from spacy>=2.2.2->en_core_web_md==2.2.5) (1.0.5)\n",
            "Requirement already satisfied: blis<0.5.0,>=0.4.0 in /usr/local/lib/python3.7/dist-packages (from spacy>=2.2.2->en_core_web_md==2.2.5) (0.4.1)\n",
            "Requirement already satisfied: importlib-metadata>=0.20 in /usr/local/lib/python3.7/dist-packages (from catalogue<1.1.0,>=0.0.7->spacy>=2.2.2->en_core_web_md==2.2.5) (4.10.1)\n",
            "Requirement already satisfied: typing-extensions>=3.6.4 in /usr/local/lib/python3.7/dist-packages (from importlib-metadata>=0.20->catalogue<1.1.0,>=0.0.7->spacy>=2.2.2->en_core_web_md==2.2.5) (3.10.0.2)\n",
            "Requirement already satisfied: zipp>=0.5 in /usr/local/lib/python3.7/dist-packages (from importlib-metadata>=0.20->catalogue<1.1.0,>=0.0.7->spacy>=2.2.2->en_core_web_md==2.2.5) (3.7.0)\n",
            "Requirement already satisfied: chardet<4,>=3.0.2 in /usr/local/lib/python3.7/dist-packages (from requests<3.0.0,>=2.13.0->spacy>=2.2.2->en_core_web_md==2.2.5) (3.0.4)\n",
            "Requirement already satisfied: idna<3,>=2.5 in /usr/local/lib/python3.7/dist-packages (from requests<3.0.0,>=2.13.0->spacy>=2.2.2->en_core_web_md==2.2.5) (2.10)\n",
            "Requirement already satisfied: urllib3!=1.25.0,!=1.25.1,<1.26,>=1.21.1 in /usr/local/lib/python3.7/dist-packages (from requests<3.0.0,>=2.13.0->spacy>=2.2.2->en_core_web_md==2.2.5) (1.24.3)\n",
            "Requirement already satisfied: certifi>=2017.4.17 in /usr/local/lib/python3.7/dist-packages (from requests<3.0.0,>=2.13.0->spacy>=2.2.2->en_core_web_md==2.2.5) (2021.10.8)\n",
            "\u001b[38;5;2m✔ Download and installation successful\u001b[0m\n",
            "You can now load the model via spacy.load('en_core_web_md')\n"
          ]
        }
      ],
      "source": [
        "!python -m spacy download en_core_web_md"
      ]
    },
    {
      "cell_type": "code",
      "execution_count": null,
      "metadata": {
        "colab": {
          "base_uri": "https://localhost:8080/"
        },
        "id": "2Qqwq9B4NKzh",
        "outputId": "cb6a6c02-9cd2-4272-bd31-4c52dc9e2c84"
      },
      "outputs": [
        {
          "output_type": "stream",
          "name": "stdout",
          "text": [
            "1000\n",
            "['00000855', '00000393', '00000379', '00000390', '00000444', '00000224', '00000499', '00000254', '00000611', '00000185', '00000446', '00000212', '00000404', '00000776', '00000498', '00000825', '00000502', '00000816', '00000014', '00000624', '00000561', '00000209', '00000591', '00000845', '00000703', '00000541', '00000129', '00000094', '00000850', '00000700', '00000255', '00000236', '00000745', '00000231', '00000306', '00000977', '00000311', '00000391', '00000708', '00000076', '00000928', '00000899', '00000728', '00000343', '00000371', '00000497', '00000871', '00000769', '00000252', '00000496', '00000659', '00000376', '00000359', '00000456', '00000707', '00000546', '00000873', '00000666', '00000697', '00000137', '00000357', '00000268', '00000009', '00000451', '00000197', '00000148', '00000249', '00000484', '00000530', '00000215', '00000218', '00000470', '00000299', '00000649', '00000585', '00000314', '00000682', '00000841', '00000995', '00000754', '00000503', '00000513', '00000549', '00000229', '00000180', '00000417', '00000437', '00000517', '00000423', '00000783', '00000198', '00000302', '00000552', '00000466', '00000097', '00000473', '00000967', '00000075', '00000042', '00000687', '00000909', '00000285', '00000941', '00000584', '00000957', '00000266', '00000151', '00000182', '00000785', '00000902', '00000354', '00000837', '00000256', '00000713', '00000900', '00000454', '00000455', '00000805', '00000852', '00000090', '00000842', '00000927', '00000204', '00000930', '00000829', '00000340', '00000108', '00000489', '00000065', '00000329', '00000114', '00000929', '00000480', '00000436', '00000644', '00000632', '00000176', '00000145', '00000974', '00000307', '00000005', '00000431', '00000536', '00000352', '00000883', '00000464', '00000291', '00000669', '00000740', '00000181', '00000419', '00000113', '00000281', '00000402', '00000963', '00000739', '00000898', '00000396', '00000060', '00000866', '00000264', '00000278', '00000877', '00000149', '00000885', '00000023', '00000086', '00000135', '00000006', '00000335', '00000647', '00000177', '00000287', '00000430', '00000919', '00000448', '00000305', '00000596', '00000193', '00000334', '00000838', '00000175', '00000365', '00000192', '00000615', '00000418', '00000362', '00000925', '00000131', '00000824', '00000000', '00000483', '00000642', '00000979', '00000872', '00000242', '00000840', '00000712', '00000073', '00000889', '00000653', '00000337', '00000701', '00000134', '00000298', '00000267', '00000668', '00000915', '00000061', '00000724', '00000067', '00000241', '00000693', '00000385', '00000222', '00000935', '00000887', '00000044', '00000115', '00000144', '00000041', '00000595', '00000119', '00000610', '00000481', '00000760', '00000228', '00000221', '00000187', '00000731', '00000188', '00000572', '00000247', '00000807', '00000958', '00000796', '00000521', '00000191', '00000026', '00000461', '00000265', '00000410', '00000315', '00000798', '00000524', '00000123', '00000126', '00000685', '00000312', '00000234', '00000618', '00000804', '00000146', '00000079', '00000428', '00000382', '00000210', '00000846', '00000588', '00000133', '00000848', '00000789', '00000001', '00000857', '00000808', '00000662', '00000672', '00000361', '00000443', '00000719', '00000389', '00000237', '00000655', '00000091', '00000768', '00000101', '00000981', '00000230', '00000273', '00000332', '00000211', '00000049', '00000821', '00000730', '00000344', '00000122', '00000795', '00000063', '00000472', '00000051', '00000386', '00000641', '00000401', '00000374', '00000575', '00000771', '00000064', '00000157', '00000233', '00000426', '00000983', '00000034', '00000392', '00000020', '00000024', '00000447', '00000921', '00000452', '00000492', '00000989', '00000280', '00000038', '00000288', '00000859', '00000832', '00000571', '00000213', '00000525', '00000612', '00000279', '00000991', '00000403', '00000353', '00000087', '00000619', '00000797', '00000214', '00000982', '00000475', '00000460', '00000120', '00000534', '00000696', '00000542', '00000077', '00000684', '00000395', '00000801', '00000520', '00000567', '00000690', '00000225', '00000493', '00000471', '00000786', '00000195', '00000640', '00000721', '00000339', '00000022', '00000429', '00000420', '00000109', '00000295', '00000331', '00000093', '00000905', '00000474', '00000290', '00000718', '00000508', '00000822', '00000753', '00000033', '00000239', '00000727', '00000710', '00000741', '00000491', '00000112', '00000127', '00000638', '00000629', '00000333', '00000328', '00000045', '00000961', '00000777', '00000735', '00000806', '00000143', '00000283', '00000729', '00000704', '00000911', '00000208', '00000942', '00000913', '00000650', '00000018', '00000652', '00000434', '00000558', '00000879', '00000504', '00000262', '00000336', '00000820', '00000100', '00000370', '00000694', '00000907', '00000580', '00000117', '00000449', '00000441', '00000380', '00000548', '00000054', '00000637', '00000439', '00000325', '00000815', '00000782', '00000085', '00000369', '00000405', '00000664', '00000544', '00000223', '00000966', '00000787', '00000847', '00000839', '00000940', '00000088', '00000469', '00000207', '00000107', '00000002', '00000284', '00000139', '00000406', '00000458', '00000564', '00000099', '00000773', '00000387', '00000300', '00000540', '00000327', '00000986', '00000813', '00000896', '00000507', '00000338', '00000372', '00000990', '00000599', '00000772', '00000869', '00000636', '00000297', '00000819', '00000856', '00000196', '00000036', '00000169', '00000604', '00000880', '00000128', '00000960', '00000767', '00000121', '00000205', '00000952', '00000138', '00000155', '00000159', '00000948', '00000634', '00000576', '00000680', '00000294', '00000577', '00000435', '00000349', '00000737', '00000142', '00000556', '00000891', '00000681', '00000537', '00000884', '00000975', '00000833', '00000746', '00000421', '00000116', '00000817', '00000526', '00000066', '00000932', '00000003', '00000150', '00000751', '00000074', '00000811', '00000973', '00000583', '00000235', '00000794', '00000201', '00000774', '00000766', '00000565', '00000053', '00000244', '00000105', '00000071', '00000954', '00000605', '00000320', '00000092', '00000084', '00000523', '00000433', '00000752', '00000639', '00000039', '00000937', '00000467', '00000734', '00000189', '00000569', '00000716', '00000512', '00000566', '00000103', '00000238', '00000217', '00000622', '00000416', '00000827', '00000726', '00000158', '00000702', '00000627', '00000691', '00000660', '00000886', '00000276', '00000140', '00000035', '00000257', '00000324', '00000253', '00000068', '00000260', '00000598', '00000161', '00000277', '00000226', '00000674', '00000904', '00000377', '00000947', '00000903', '00000861', '00000775', '00000347', '00000651', '00000665', '00000590', '00000510', '00000878', '00000070', '00000993', '00000130', '00000040', '00000971', '00000272', '00000427', '00000409', '00000186', '00000867', '00000931', '00000897', '00000488', '00000574', '00000863', '00000156', '00000313', '00000922', '00000881', '00000949', '00000017', '00000453', '00000166', '00000945', '00000528', '00000578', '00000834', '00000663', '00000633', '00000438', '00000243', '00000570', '00000057', '00000562', '00000482', '00000098', '00000688', '00000501', '00000083', '00000962', '00000683', '00000563', '00000232', '00000412', '00000950', '00000894', '00000518', '00000717', '00000743', '00000021', '00000199', '00000645', '00000519', '00000818', '00000479', '00000167', '00000623', '00000046', '00000019', '00000326', '00000661', '00000648', '00000875', '00000678', '00000096', '00000367', '00000529', '00000545', '00000346', '00000154', '00000720', '00000047', '00000303', '00000394', '00000976', '00000356', '00000016', '00000245', '00000620', '00000032', '00000791', '00000671', '00000164', '00000104', '00000646', '00000363', '00000153', '00000062', '00000413', '00000559', '00000289', '00000943', '00000918', '00000388', '00000968', '00000621', '00000535', '00000920', '00000738', '00000601', '00000240', '00000012', '00000163', '00000705', '00000450', '00000366', '00000373', '00000946', '00000657', '00000251', '00000350', '00000485', '00000025', '00000675', '00000227', '00000809', '00000102', '00000399', '00000626', '00000888', '00000383', '00000581', '00000560', '00000477', '00000258', '00000037', '00000500', '00000939', '00000965', '00000246', '00000906', '00000756', '00000490', '00000792', '00000400', '00000933', '00000462', '00000125', '00000509', '00000998', '00000758', '00000360', '00000364', '00000803', '00000778', '00000533', '00000069', '00000938', '00000865', '00000568', '00000319', '00000788', '00000843', '00000656', '00000814', '00000543', '00000732', '00000310', '00000442', '00000081', '00000494', '00000759', '00000860', '00000027', '00000124', '00000271', '00000597', '00000953', '00000286', '00000676', '00000358', '00000868', '00000415', '00000901', '00000603', '00000408', '00000607', '00000969', '00000764', '00000802', '00000854', '00000141', '00000978', '00000173', '00000345', '00000828', '00000800', '00000586', '00000059', '00000030', '00000050', '00000830', '00000178', '00000980', '00000609', '00000506', '00000190', '00000184', '00000988', '00000259', '00000414', '00000486', '00000411', '00000318', '00000997', '00000779', '00000004', '00000964', '00000831', '00000757', '00000749', '00000874', '00000677', '00000916', '00000468', '00000823', '00000765', '00000152', '00000851', '00000203', '00000368', '00000516', '00000589', '00000994', '00000970', '00000780', '00000304', '00000600', '00000799', '00000714', '00000602', '00000174', '00000893', '00000248', '00000015', '00000722', '00000736', '00000058', '00000111', '00000301', '00000917', '00000355', '00000793', '00000959', '00000171', '00000505', '00000908', '00000010', '00000515', '00000048', '00000351', '00000670', '00000864', '00000165', '00000007', '00000910', '00000996', '00000592', '00000790', '00000923', '00000316', '00000136', '00000555', '00000028', '00000008', '00000330', '00000744', '00000616', '00000029', '00000781', '00000384', '00000321', '00000118', '00000761', '00000422', '00000381', '00000956', '00000296', '00000095', '00000274', '00000699', '00000072', '00000617', '00000275', '00000679', '00000582', '00000206', '00000686', '00000835', '00000080', '00000709', '00000689', '00000263', '00000844', '00000013', '00000110', '00000999', '00000550', '00000425', '00000849', '00000733', '00000553', '00000882', '00000269', '00000202', '00000594', '00000892', '00000654', '00000194', '00000631', '00000784', '00000043', '00000539', '00000936', '00000323', '00000628', '00000132', '00000082', '00000216', '00000934', '00000172', '00000912', '00000514', '00000643', '00000487', '00000770', '00000293', '00000522', '00000992', '00000424', '00000613', '00000527', '00000944', '00000106', '00000055', '00000625', '00000748', '00000162', '00000397', '00000826', '00000763', '00000200', '00000593', '00000573', '00000183', '00000723', '00000862', '00000341', '00000926', '00000551', '00000445', '00000742', '00000011', '00000810', '00000924', '00000538', '00000557', '00000725', '00000478', '00000463', '00000858', '00000985', '00000747', '00000914', '00000056', '00000658', '00000309', '00000495', '00000836', '00000179', '00000457', '00000635', '00000375', '00000762', '00000317', '00000398', '00000579', '00000630', '00000750', '00000587', '00000667', '00000812', '00000711', '00000673', '00000031', '00000606', '00000895', '00000459', '00000292', '00000531', '00000378', '00000078', '00000476', '00000261', '00000322', '00000692', '00000698', '00000220', '00000511', '00000608', '00000890', '00000554', '00000168', '00000955', '00000270', '00000089', '00000432', '00000972', '00000250', '00000052', '00000706', '00000282', '00000147', '00000695', '00000532', '00000984', '00000547', '00000308', '00000876', '00000342', '00000407', '00000465', '00000987', '00000870', '00000755', '00000715', '00000170', '00000440', '00000614', '00000951', '00000219', '00000853', '00000160', '00000348']\n"
          ]
        }
      ],
      "source": [
        "#Load images and split the name to get image id\n",
        "path = \"./train_1000/\"\n",
        "loadedImages_ls = []\n",
        "imaged_id_num = []\n",
        "imagesList = listdir(path)\n",
        "for image in imagesList:\n",
        "  imagePath = path + '/'+ image\n",
        "  loadedImages_ls.append(load_img(imagePath, target_size=(224, 224)))\n",
        "  imaged_id_num.append(str(Path(image).with_suffix('')).split(\"_\")[2])\n",
        "\n",
        "\n",
        "imgs =loadedImages_ls\n",
        "print(len(imaged_id_num))\n",
        "print(imaged_id_num)"
      ]
    },
    {
      "cell_type": "code",
      "execution_count": null,
      "metadata": {
        "colab": {
          "base_uri": "https://localhost:8080/"
        },
        "id": "cZ4JNHaCNMr1",
        "outputId": "8e377349-52fc-423e-b708-fa081c87257c"
      },
      "outputs": [
        {
          "output_type": "stream",
          "name": "stdout",
          "text": [
            "(1000, 224, 224, 3)\n"
          ]
        }
      ],
      "source": [
        "#reshape the images to the size of vgg16 model (224,224,3)\n",
        "images=[]\n",
        "for i in imgs:\n",
        "  x = img_to_array(i)\n",
        "  x = x.reshape((1, x.shape[0], x.shape[1], x.shape[2]))\n",
        "  images.append(x)\n",
        "  x = preprocess_input(x)\n",
        "  \n",
        "images = np.vstack(images)\n",
        "print(images.shape)"
      ]
    },
    {
      "cell_type": "code",
      "execution_count": null,
      "metadata": {
        "colab": {
          "base_uri": "https://localhost:8080/"
        },
        "id": "IHhNKYluNSdm",
        "outputId": "6b78eb2e-a446-4443-a3bc-90726c7bbcf3"
      },
      "outputs": [
        {
          "output_type": "stream",
          "name": "stdout",
          "text": [
            "Model: \"vgg16\"\n",
            "_________________________________________________________________\n",
            " Layer (type)                Output Shape              Param #   \n",
            "=================================================================\n",
            " input_3 (InputLayer)        [(None, 224, 224, 3)]     0         \n",
            "                                                                 \n",
            " block1_conv1 (Conv2D)       (None, 224, 224, 64)      1792      \n",
            "                                                                 \n",
            " block1_conv2 (Conv2D)       (None, 224, 224, 64)      36928     \n",
            "                                                                 \n",
            " block1_pool (MaxPooling2D)  (None, 112, 112, 64)      0         \n",
            "                                                                 \n",
            " block2_conv1 (Conv2D)       (None, 112, 112, 128)     73856     \n",
            "                                                                 \n",
            " block2_conv2 (Conv2D)       (None, 112, 112, 128)     147584    \n",
            "                                                                 \n",
            " block2_pool (MaxPooling2D)  (None, 56, 56, 128)       0         \n",
            "                                                                 \n",
            " block3_conv1 (Conv2D)       (None, 56, 56, 256)       295168    \n",
            "                                                                 \n",
            " block3_conv2 (Conv2D)       (None, 56, 56, 256)       590080    \n",
            "                                                                 \n",
            " block3_conv3 (Conv2D)       (None, 56, 56, 256)       590080    \n",
            "                                                                 \n",
            " block3_pool (MaxPooling2D)  (None, 28, 28, 256)       0         \n",
            "                                                                 \n",
            " block4_conv1 (Conv2D)       (None, 28, 28, 512)       1180160   \n",
            "                                                                 \n",
            " block4_conv2 (Conv2D)       (None, 28, 28, 512)       2359808   \n",
            "                                                                 \n",
            " block4_conv3 (Conv2D)       (None, 28, 28, 512)       2359808   \n",
            "                                                                 \n",
            " block4_pool (MaxPooling2D)  (None, 14, 14, 512)       0         \n",
            "                                                                 \n",
            " block5_conv1 (Conv2D)       (None, 14, 14, 512)       2359808   \n",
            "                                                                 \n",
            " block5_conv2 (Conv2D)       (None, 14, 14, 512)       2359808   \n",
            "                                                                 \n",
            " block5_conv3 (Conv2D)       (None, 14, 14, 512)       2359808   \n",
            "                                                                 \n",
            " block5_pool (MaxPooling2D)  (None, 7, 7, 512)         0         \n",
            "                                                                 \n",
            " flatten (Flatten)           (None, 25088)             0         \n",
            "                                                                 \n",
            " fc1 (Dense)                 (None, 4096)              102764544 \n",
            "                                                                 \n",
            " fc2 (Dense)                 (None, 4096)              16781312  \n",
            "                                                                 \n",
            " predictions (Dense)         (None, 1000)              4097000   \n",
            "                                                                 \n",
            "=================================================================\n",
            "Total params: 138,357,544\n",
            "Trainable params: 138,357,544\n",
            "Non-trainable params: 0\n",
            "_________________________________________________________________\n"
          ]
        }
      ],
      "source": [
        "#load VGG16 model\n",
        "model = VGG16()\n",
        "model.summary()"
      ]
    },
    {
      "cell_type": "code",
      "execution_count": null,
      "metadata": {
        "id": "dMPFtezzNUqh",
        "colab": {
          "base_uri": "https://localhost:8080/"
        },
        "outputId": "f9752538-7baa-4af9-cbde-90bdb9229d45"
      },
      "outputs": [
        {
          "output_type": "stream",
          "name": "stdout",
          "text": [
            "(1000, 4096)\n"
          ]
        }
      ],
      "source": [
        "#remove output layer and get the extracted features\n",
        "model = Model(inputs=model.inputs, outputs=model.layers[-2].output)\n",
        "features = model.predict(images)\n",
        "print(features.shape)"
      ]
    },
    {
      "cell_type": "code",
      "execution_count": null,
      "metadata": {
        "id": "DoQrGtfbNXt3"
      },
      "outputs": [],
      "source": [
        "import numpy, scipy.io\n",
        "scipy.io.savemat('vgg16_featues_train_1000.mat', mdict = {'features': features})"
      ]
    },
    {
      "cell_type": "code",
      "execution_count": null,
      "metadata": {
        "id": "wnBvKmWq53TE"
      },
      "outputs": [],
      "source": [
        "import spacy\n",
        "nlp = spacy.load('en_core_web_md')"
      ]
    },
    {
      "cell_type": "code",
      "execution_count": null,
      "metadata": {
        "id": "Bj-stdKxnAkf"
      },
      "outputs": [],
      "source": [
        "#load annotations\n",
        "anno_val = json.load(open('Annotations/val.json', 'r'))\n",
        "anno_train = json.load(open('Annotations/train.json', 'r'))\n",
        "anno_test = json.load(open('Annotations/test.json', 'r'))"
      ]
    },
    {
      "cell_type": "code",
      "execution_count": null,
      "metadata": {
        "colab": {
          "base_uri": "https://localhost:8080/"
        },
        "id": "fg_iiFzKnIdE",
        "outputId": "b3947b6a-5a18-428b-f40a-32ed7c5b1310"
      },
      "outputs": [
        {
          "output_type": "stream",
          "name": "stdout",
          "text": [
            "[{'answer_confidence': 'yes', 'answer': 'basil leaves'}, {'answer_confidence': 'yes', 'answer': 'basil leaves'}, {'answer_confidence': 'yes', 'answer': 'basil'}, {'answer_confidence': 'yes', 'answer': 'basil'}, {'answer_confidence': 'yes', 'answer': 'basil leaves'}, {'answer_confidence': 'yes', 'answer': 'basil leaves'}, {'answer_confidence': 'yes', 'answer': 'basil leaves'}, {'answer_confidence': 'yes', 'answer': 'basil leaves'}, {'answer_confidence': 'yes', 'answer': 'basil leaves'}, {'answer_confidence': 'yes', 'answer': 'basil'}]\n"
          ]
        }
      ],
      "source": [
        "questions_train=[];\n",
        "image_id_train=[];\n",
        "answers_train=[];\n",
        "for i in range(len(anno_train)):\n",
        "  questions_train.append(anno_train[i]['question'])\n",
        "  image_id_train.append(anno_train[i]['image'])\n",
        "  answers_train.append(anno_train[i]['answers'])\n",
        "\n",
        "print(answers_train[0])"
      ]
    },
    {
      "cell_type": "code",
      "execution_count": null,
      "metadata": {
        "colab": {
          "base_uri": "https://localhost:8080/"
        },
        "id": "1ngx2LGRc5GX",
        "outputId": "3a422780-49d5-4cc7-8bad-a8a1503b95c4"
      },
      "outputs": [
        {
          "output_type": "stream",
          "name": "stdout",
          "text": [
            "Directory 'train' created successfully\n"
          ]
        }
      ],
      "source": [
        "#create train file \n",
        "import os  \n",
        "directory = \"train\"\n",
        "parent_dir = \"/content\" \n",
        "path = os.path.join(parent_dir, directory)   \n",
        "try:\n",
        "    os.makedirs(path, exist_ok = True)\n",
        "    print(\"Directory '%s' created successfully\" % directory)\n",
        "except OSError as error:\n",
        "  print(\"Directory '%s' is already existed\" % directory)  "
      ]
    },
    {
      "cell_type": "code",
      "execution_count": null,
      "metadata": {
        "id": "yxW2a49IHoAn"
      },
      "outputs": [],
      "source": [
        "progress = progressbar.ProgressBar()"
      ]
    },
    {
      "cell_type": "code",
      "execution_count": null,
      "metadata": {
        "id": "9SLSmbNsHrgx"
      },
      "outputs": [],
      "source": [
        "#get the most frequest answer for each question \n",
        "def most_freq_answer(values):\n",
        "    ans_dict = {}\n",
        "    for index in range(10):\n",
        "        ans_dict[values[index]['answer']] = 1\n",
        "    for index in range(10):\n",
        "        ans_dict[values[index]['answer']] += 1\n",
        "    return max(ans_dict.items(), key = operator.itemgetter(1))[0]"
      ]
    },
    {
      "cell_type": "code",
      "execution_count": null,
      "metadata": {
        "id": "mOVX9RvxH9_D"
      },
      "outputs": [],
      "source": [
        "import numpy as np\n",
        "import pandas as pd\n",
        "import warnings\n",
        "warnings.filterwarnings(\"ignore\")\n",
        "\n",
        "import spacy\n",
        "from spacy.lang.en.examples import sentences \n",
        "\n",
        "import scipy.io\n",
        "import gc\n",
        "from sklearn.preprocessing import LabelEncoder\n",
        "import pickle\n",
        "\n",
        "from keras.models import Sequential\n",
        "from keras.layers.core import Dense, Dropout, Activation, Reshape\n",
        "from keras import Input\n",
        "from keras.layers.recurrent import LSTM\n",
        "from keras.layers import concatenate\n",
        "from keras.layers.merge import Concatenate\n",
        "from keras.models import model_from_json, Model\n",
        "from keras.utils.vis_utils import plot_model\n",
        "from collections import defaultdict\n",
        "import operator\n",
        "from keras.utils import np_utils, generic_utils\n",
        "from progressbar import Bar, ETA, Percentage, ProgressBar\n",
        "from itertools import zip_longest\n",
        "from keras.models import load_model"
      ]
    },
    {
      "cell_type": "code",
      "source": [
        "# image_id_train_file = open('train/image_id_train_file.txt','wb')\n",
        "# questions_train_file = open('train/questions_train_file.txt', 'wb')\n",
        "# question_len_train_file = open('train/question_len_train_file.txt', 'wb')\n",
        "# answers_train_file = open('train/answers_train_file.txt','wb')"
      ],
      "metadata": {
        "id": "ZUNIJpgtVrKT"
      },
      "execution_count": null,
      "outputs": []
    },
    {
      "cell_type": "code",
      "source": [
        "# for index, q  in progress(zip(range(len(questions_train)),questions_train )):\n",
        "#     questions_train_file.write((q + '\\n').encode('utf8'))\n",
        "#     question_len_train_file.write((str(len(nlp(q))) + '\\n').encode('utf8'))\n",
        "#     image_id_train_file.write((image_id_train[index]+'\\n').encode('utf8'))\n",
        "#     answers_train_file.write(most_freq_answer(answers_train[index]).encode('utf8'))\n",
        "#     answers_train_file.write('\\n'.encode('utf8'))"
      ],
      "metadata": {
        "id": "msd7yBN_VyS8"
      },
      "execution_count": null,
      "outputs": []
    },
    {
      "cell_type": "code",
      "source": [
        "questions_train_read =[]\n",
        "questions_len_read=[]\n",
        "answers_read=[]\n",
        "image_id_read=[]\n",
        "for index, q  in progress(zip(range(len(questions_train)),questions_train )):\n",
        "  questions_train_read.append(q)\n",
        "  questions_len_read.append(str(len(nlp(q))))\n",
        "  answers_read.append(most_freq_answer(answers_train[index]))\n",
        "  image_id_read.append(image_id_train[index])"
      ],
      "metadata": {
        "colab": {
          "base_uri": "https://localhost:8080/"
        },
        "id": "2Vs91v95-SRX",
        "outputId": "4ed1cf4f-c4ac-449a-d0de-48e510a9971d"
      },
      "execution_count": null,
      "outputs": [
        {
          "output_type": "stream",
          "name": "stderr",
          "text": [
            "| |                                     #         | 20522 Elapsed Time: 0:03:51\n"
          ]
        }
      ]
    },
    {
      "cell_type": "code",
      "source": [
        "# questions_train_read = open('train/questions_train_file.txt', 'rb').read().decode('utf-8').splitlines()\n",
        "# questions_len_read = open('train/question_len_train_file.txt', 'rb').read().decode('utf-8').splitlines()\n",
        "# answers_read = open('train/answers_train_file.txt','rb').read().decode('utf-8').splitlines()\n",
        "# image_id_read = open('train/image_id_train_file.txt','rb').read().decode('utf-8').splitlines()"
      ],
      "metadata": {
        "id": "wx2XNQGbWGTM"
      },
      "execution_count": null,
      "outputs": []
    },
    {
      "cell_type": "code",
      "execution_count": null,
      "metadata": {
        "id": "ZWIkRemDwzuG"
      },
      "outputs": [],
      "source": [
        "vgg_path = \"vgg16_featues_train_1000.mat\""
      ]
    },
    {
      "cell_type": "code",
      "execution_count": null,
      "metadata": {
        "id": "TtCYUM5USzeo"
      },
      "outputs": [],
      "source": [
        "vgg = scipy.io.loadmat(vgg_path)\n",
        "features = vgg['features']"
      ]
    },
    {
      "cell_type": "code",
      "execution_count": null,
      "metadata": {
        "id": "iAr35U-sdjbr"
      },
      "outputs": [],
      "source": [
        "def freq_answers(questions, answers, image_id, upper_lim):\n",
        "    freq_ans = defaultdict(int)\n",
        "    for ans in answers:\n",
        "        freq_ans[ans] +=1\n",
        "    \n",
        "    sort = sorted(freq_ans.items(), key=operator.itemgetter(1), reverse=True)[0:upper_lim]\n",
        "    #print(sort)\n",
        "    top_ans, top_freq = zip(*sort)\n",
        "    #print(top_ans, top_freq)\n",
        "    new_answers_train = list()\n",
        "    new_questions_train = list()\n",
        "    new_images_train = list()\n",
        "    for ans, ques, img in zip(answers, questions, image_id):\n",
        "        if ans in top_ans:\n",
        "            new_answers_train.append(ans)\n",
        "            new_questions_train.append(ques)\n",
        "            new_images_train.append(img)\n",
        "    return (new_questions_train, new_answers_train, new_images_train)"
      ]
    },
    {
      "cell_type": "code",
      "execution_count": null,
      "metadata": {
        "colab": {
          "base_uri": "https://localhost:8080/"
        },
        "id": "9bGa1tAnp5so",
        "outputId": "ad726ac6-8cbb-4d31-a94b-12652429c99e"
      },
      "outputs": [
        {
          "output_type": "stream",
          "name": "stdout",
          "text": [
            "15556 15556 15556\n"
          ]
        }
      ],
      "source": [
        "upper_lim = 1000 \n",
        "questions, answers, image_id = freq_answers(questions_train_read, answers_read, image_id_read, upper_lim)\n",
        "questions_len, questions, answers_fromUpperlimit, image_id = (list(t) for t in zip(*sorted(zip(questions_len_read, questions, answers, image_id))))\n",
        "print (len(questions), len(answers_fromUpperlimit),len(image_id))"
      ]
    },
    {
      "cell_type": "code",
      "execution_count": null,
      "metadata": {
        "id": "HjTFV21ou0bw"
      },
      "outputs": [],
      "source": [
        "batch_size               =     1000 #512\n",
        "img_dim                  =     4096\n",
        "word2vec_dim             =      300\n",
        "num_hidden_nodes_mlp     =     1024\n",
        "num_hidden_nodes_lstm    =      512\n",
        "num_layers_lstm          =        3\n",
        "dropout                  =       0.5\n",
        "activation_mlp           =     'tanh'\n",
        "num_epochs               =        5"
      ]
    },
    {
      "cell_type": "code",
      "execution_count": null,
      "metadata": {
        "colab": {
          "base_uri": "https://localhost:8080/"
        },
        "id": "3be2kjV26V7c",
        "outputId": "2932a25c-166b-4c62-a758-0335d619981f"
      },
      "outputs": [
        {
          "output_type": "stream",
          "name": "stdout",
          "text": [
            "Model: \"model_9\"\n",
            "_________________________________________________________________\n",
            " Layer (type)                Output Shape              Param #   \n",
            "=================================================================\n",
            " reshape_2_input (InputLayer  [(None, 4096)]           0         \n",
            " )                                                               \n",
            "                                                                 \n",
            " reshape_2 (Reshape)         (None, 4096)              0         \n",
            "                                                                 \n",
            "=================================================================\n",
            "Total params: 0\n",
            "Trainable params: 0\n",
            "Non-trainable params: 0\n",
            "_________________________________________________________________\n",
            "(None, 4096)\n"
          ]
        }
      ],
      "source": [
        "image_model = Sequential()\n",
        "image_model.add(Reshape(input_shape = (4096,), target_shape=(4096,)))\n",
        "model1 = Model(inputs = image_model.input, outputs = image_model.output)\n",
        "model1.summary()\n",
        "print(image_model.input.shape)"
      ]
    },
    {
      "cell_type": "code",
      "execution_count": null,
      "metadata": {
        "colab": {
          "base_uri": "https://localhost:8080/"
        },
        "id": "0nIVqg1YF93q",
        "outputId": "f178988d-00d5-46c3-c50e-0d87da4ea784"
      },
      "outputs": [
        {
          "output_type": "stream",
          "name": "stdout",
          "text": [
            "Model: \"model_10\"\n",
            "_________________________________________________________________\n",
            " Layer (type)                Output Shape              Param #   \n",
            "=================================================================\n",
            " lstm_6_input (InputLayer)   [(None, None, 300)]       0         \n",
            "                                                                 \n",
            " lstm_6 (LSTM)               (None, None, 512)         1665024   \n",
            "                                                                 \n",
            " lstm_7 (LSTM)               (None, None, 512)         2099200   \n",
            "                                                                 \n",
            " lstm_8 (LSTM)               (None, 512)               2099200   \n",
            "                                                                 \n",
            "=================================================================\n",
            "Total params: 5,863,424\n",
            "Trainable params: 5,863,424\n",
            "Non-trainable params: 0\n",
            "_________________________________________________________________\n"
          ]
        }
      ],
      "source": [
        "language_model = Sequential()\n",
        "language_model.add(LSTM(num_hidden_nodes_lstm, return_sequences=True, input_shape=(None, word2vec_dim)))\n",
        "\n",
        "for i in range(num_layers_lstm-2):\n",
        "    language_model.add(LSTM(num_hidden_nodes_lstm, return_sequences=True))\n",
        "    \n",
        "language_model.add(LSTM(num_hidden_nodes_lstm, return_sequences=False))\n",
        "\n",
        "model2 = Model(language_model.input, language_model.output)\n",
        "model2.summary()"
      ]
    },
    {
      "cell_type": "code",
      "execution_count": null,
      "metadata": {
        "id": "0K_q8ZdSKPn3"
      },
      "outputs": [],
      "source": [
        "combined = concatenate([image_model.output, language_model.output])"
      ]
    },
    {
      "cell_type": "code",
      "execution_count": null,
      "metadata": {
        "id": "5ejhXHwrKd5g"
      },
      "outputs": [],
      "source": [
        "model = Dense(num_hidden_nodes_mlp, kernel_initializer='uniform', activation = 'tanh')(combined)\n",
        "#model = Activation('tanh')(model)\n",
        "model = Dropout(0.5)(model)\n",
        "\n",
        "model = Dense(num_hidden_nodes_mlp, kernel_initializer='uniform', activation = 'tanh')(model)\n",
        "#model = Activation('tanh')(model)\n",
        "model = Dropout(0.5)(model)\n",
        "\n",
        "model = Dense(num_hidden_nodes_mlp, kernel_initializer='uniform', activation = 'tanh')(model)\n",
        "#model = Activation('tanh')(model)\n",
        "model = Dropout(0.5)(model)\n",
        "\n",
        "model = Dense(upper_lim)(model)\n",
        "model = Activation(\"softmax\")(model)\n",
        "\n",
        "model = Model(inputs=[image_model.input, language_model.input], outputs=model)"
      ]
    },
    {
      "cell_type": "code",
      "execution_count": null,
      "metadata": {
        "colab": {
          "base_uri": "https://localhost:8080/"
        },
        "id": "wwGwhL_uLHyw",
        "outputId": "6791fa83-1afd-46dd-a16a-15157d68422e"
      },
      "outputs": [
        {
          "output_type": "stream",
          "name": "stdout",
          "text": [
            "Model: \"model_11\"\n",
            "__________________________________________________________________________________________________\n",
            " Layer (type)                   Output Shape         Param #     Connected to                     \n",
            "==================================================================================================\n",
            " lstm_6_input (InputLayer)      [(None, None, 300)]  0           []                               \n",
            "                                                                                                  \n",
            " lstm_6 (LSTM)                  (None, None, 512)    1665024     ['lstm_6_input[0][0]']           \n",
            "                                                                                                  \n",
            " reshape_2_input (InputLayer)   [(None, 4096)]       0           []                               \n",
            "                                                                                                  \n",
            " lstm_7 (LSTM)                  (None, None, 512)    2099200     ['lstm_6[0][0]']                 \n",
            "                                                                                                  \n",
            " reshape_2 (Reshape)            (None, 4096)         0           ['reshape_2_input[0][0]']        \n",
            "                                                                                                  \n",
            " lstm_8 (LSTM)                  (None, 512)          2099200     ['lstm_7[0][0]']                 \n",
            "                                                                                                  \n",
            " concatenate_2 (Concatenate)    (None, 4608)         0           ['reshape_2[0][0]',              \n",
            "                                                                  'lstm_8[0][0]']                 \n",
            "                                                                                                  \n",
            " dense_8 (Dense)                (None, 1024)         4719616     ['concatenate_2[0][0]']          \n",
            "                                                                                                  \n",
            " dropout_6 (Dropout)            (None, 1024)         0           ['dense_8[0][0]']                \n",
            "                                                                                                  \n",
            " dense_9 (Dense)                (None, 1024)         1049600     ['dropout_6[0][0]']              \n",
            "                                                                                                  \n",
            " dropout_7 (Dropout)            (None, 1024)         0           ['dense_9[0][0]']                \n",
            "                                                                                                  \n",
            " dense_10 (Dense)               (None, 1024)         1049600     ['dropout_7[0][0]']              \n",
            "                                                                                                  \n",
            " dropout_8 (Dropout)            (None, 1024)         0           ['dense_10[0][0]']               \n",
            "                                                                                                  \n",
            " dense_11 (Dense)               (None, 1000)         1025000     ['dropout_8[0][0]']              \n",
            "                                                                                                  \n",
            " activation_2 (Activation)      (None, 1000)         0           ['dense_11[0][0]']               \n",
            "                                                                                                  \n",
            "==================================================================================================\n",
            "Total params: 13,707,240\n",
            "Trainable params: 13,707,240\n",
            "Non-trainable params: 0\n",
            "__________________________________________________________________________________________________\n"
          ]
        }
      ],
      "source": [
        "# model.compile(loss='categorical_crossentropy', optimizer='rmsprop',metrics = [\"accuracy\"])\n",
        "# model.summary()\n",
        "import tensorflow as tf\n",
        "\n",
        "optimizer = tf.keras.optimizers.Adam(lr=0.1)\n",
        "model.compile(loss='categorical_crossentropy', optimizer=optimizer ,metrics = [\"accuracy\"])\n",
        "model.summary()"
      ]
    },
    {
      "cell_type": "code",
      "execution_count": null,
      "metadata": {
        "colab": {
          "base_uri": "https://localhost:8080/",
          "height": 1000
        },
        "id": "vqkyVBmTLMg3",
        "outputId": "570e3989-745e-47bf-9e9a-636e97c752e4"
      },
      "outputs": [
        {
          "output_type": "execute_result",
          "data": {
            "image/png": "[encoded data removed]",
            "text/plain": [
              "<IPython.core.display.Image object>"
            ]
          },
          "metadata": {},
          "execution_count": 141
        }
      ],
      "source": [
        "plot_model(model, to_file='model_plot.png', show_shapes=True, show_layer_names=True)"
      ]
    },
    {
      "cell_type": "code",
      "execution_count": null,
      "metadata": {
        "id": "zJ5hqCCWtaBg"
      },
      "outputs": [],
      "source": [
        "le = LabelEncoder()\n",
        "le.fit(answers)\n",
        "pickle.dump(le, open('/content/drive/MyDrive/dataset_VQA/label_encoder_lstm.pkl','wb'))"
      ]
    },
    {
      "cell_type": "code",
      "execution_count": null,
      "metadata": {
        "id": "hq2KExrlLhht"
      },
      "outputs": [],
      "source": [
        "def get_questions_tensor_timeseries(questions, nlp, timesteps):\n",
        "    # assert not isinstance(questions, list)\n",
        "    nb_samples = len(questions)\n",
        "    word_vec_dim = nlp(questions[0])[0].vector.shape[0]\n",
        "    questions_tensor = np.zeros((nb_samples, timesteps, word_vec_dim))\n",
        "    for i in range(len(questions)):\n",
        "        tokens = nlp(questions[i])\n",
        "        for j in range(len(tokens)):\n",
        "            if j<timesteps:\n",
        "                questions_tensor[i,j,:] = tokens[j].vector\n",
        "    return questions_tensor\n",
        "\n",
        "#VGGfeatures --> 1000*4069\n",
        "def get_images_matrix(img_coco_ids, img_map, VGGfeatures):\n",
        "    # assert not isinstance(img_coco_ids, list)\n",
        "    nb_samples = len(img_coco_ids) \n",
        "    # print(nb_samples) #20410\n",
        "    nb_dimensions = VGGfeatures.shape[1]#4069\n",
        "    image_matrix = np.zeros((nb_dimensions, nb_samples)) #4069*1000 \n",
        "    \n",
        "    for j in range(len(img_coco_ids)):\n",
        "        if img_coco_ids[j] in img_map:\n",
        "          image_matrix[j,:] = VGGfeatures[:,list(img_map.keys()).index(int(img_coco_ids[j]))]\n",
        "        image_matrix_trans = image_matrix.transpose()\n",
        "\n",
        "    return image_matrix_trans\n",
        "\n",
        "#labelencoder --> we need to convert categorical data into integral data\n",
        "#3ayzeen 100 egaba yet7welo le 100 integer\n",
        "def get_answers_sum(answers, encoder):\n",
        "    # assert not isinstance(answers, list)\n",
        "    y= encoder.fit_transform(answers)\n",
        "    # nb_classes = encoder.classes_.shape[0]\n",
        "    # Y = np_utils.to_categorical(y, nb_classes) \n",
        "    Y = np_utils.to_categorical(y, upper_lim)\n",
        "    return Y\n",
        "\n",
        "def grouped(iterable, n, fillvalue=None):\n",
        "    args = [iter(iterable)] * n\n",
        "    return zip_longest(*args, fillvalue=fillvalue)"
      ]
    },
    {
      "cell_type": "code",
      "execution_count": null,
      "metadata": {
        "colab": {
          "base_uri": "https://localhost:8080/"
        },
        "id": "wLJwU01nPog8",
        "outputId": "9180b319-f6d5-41ae-a9f1-c4f637372753"
      },
      "outputs": [
        {
          "output_type": "stream",
          "name": "stdout",
          "text": [
            "{855: 0, 393: 1, 379: 2, 390: 3, 444: 4, 224: 5, 499: 6, 254: 7, 611: 8, 185: 9, 446: 10, 212: 11, 404: 12, 776: 13, 498: 14, 825: 15, 502: 16, 816: 17, 14: 18, 624: 19, 561: 20, 209: 21, 591: 22, 845: 23, 703: 24, 541: 25, 129: 26, 94: 27, 850: 28, 700: 29, 255: 30, 236: 31, 745: 32, 231: 33, 306: 34, 977: 35, 311: 36, 391: 37, 708: 38, 76: 39, 928: 40, 899: 41, 728: 42, 343: 43, 371: 44, 497: 45, 871: 46, 769: 47, 252: 48, 496: 49, 659: 50, 376: 51, 359: 52, 456: 53, 707: 54, 546: 55, 873: 56, 666: 57, 697: 58, 137: 59, 357: 60, 268: 61, 9: 62, 451: 63, 197: 64, 148: 65, 249: 66, 484: 67, 530: 68, 215: 69, 218: 70, 470: 71, 299: 72, 649: 73, 585: 74, 314: 75, 682: 76, 841: 77, 995: 78, 754: 79, 503: 80, 513: 81, 549: 82, 229: 83, 180: 84, 417: 85, 437: 86, 517: 87, 423: 88, 783: 89, 198: 90, 302: 91, 552: 92, 466: 93, 97: 94, 473: 95, 967: 96, 75: 97, 42: 98, 687: 99, 909: 100, 285: 101, 941: 102, 584: 103, 957: 104, 266: 105, 151: 106, 182: 107, 785: 108, 902: 109, 354: 110, 837: 111, 256: 112, 713: 113, 900: 114, 454: 115, 455: 116, 805: 117, 852: 118, 90: 119, 842: 120, 927: 121, 204: 122, 930: 123, 829: 124, 340: 125, 108: 126, 489: 127, 65: 128, 329: 129, 114: 130, 929: 131, 480: 132, 436: 133, 644: 134, 632: 135, 176: 136, 145: 137, 974: 138, 307: 139, 5: 140, 431: 141, 536: 142, 352: 143, 883: 144, 464: 145, 291: 146, 669: 147, 740: 148, 181: 149, 419: 150, 113: 151, 281: 152, 402: 153, 963: 154, 739: 155, 898: 156, 396: 157, 60: 158, 866: 159, 264: 160, 278: 161, 877: 162, 149: 163, 885: 164, 23: 165, 86: 166, 135: 167, 6: 168, 335: 169, 647: 170, 177: 171, 287: 172, 430: 173, 919: 174, 448: 175, 305: 176, 596: 177, 193: 178, 334: 179, 838: 180, 175: 181, 365: 182, 192: 183, 615: 184, 418: 185, 362: 186, 925: 187, 131: 188, 824: 189, 0: 190, 483: 191, 642: 192, 979: 193, 872: 194, 242: 195, 840: 196, 712: 197, 73: 198, 889: 199, 653: 200, 337: 201, 701: 202, 134: 203, 298: 204, 267: 205, 668: 206, 915: 207, 61: 208, 724: 209, 67: 210, 241: 211, 693: 212, 385: 213, 222: 214, 935: 215, 887: 216, 44: 217, 115: 218, 144: 219, 41: 220, 595: 221, 119: 222, 610: 223, 481: 224, 760: 225, 228: 226, 221: 227, 187: 228, 731: 229, 188: 230, 572: 231, 247: 232, 807: 233, 958: 234, 796: 235, 521: 236, 191: 237, 26: 238, 461: 239, 265: 240, 410: 241, 315: 242, 798: 243, 524: 244, 123: 245, 126: 246, 685: 247, 312: 248, 234: 249, 618: 250, 804: 251, 146: 252, 79: 253, 428: 254, 382: 255, 210: 256, 846: 257, 588: 258, 133: 259, 848: 260, 789: 261, 1: 262, 857: 263, 808: 264, 662: 265, 672: 266, 361: 267, 443: 268, 719: 269, 389: 270, 237: 271, 655: 272, 91: 273, 768: 274, 101: 275, 981: 276, 230: 277, 273: 278, 332: 279, 211: 280, 49: 281, 821: 282, 730: 283, 344: 284, 122: 285, 795: 286, 63: 287, 472: 288, 51: 289, 386: 290, 641: 291, 401: 292, 374: 293, 575: 294, 771: 295, 64: 296, 157: 297, 233: 298, 426: 299, 983: 300, 34: 301, 392: 302, 20: 303, 24: 304, 447: 305, 921: 306, 452: 307, 492: 308, 989: 309, 280: 310, 38: 311, 288: 312, 859: 313, 832: 314, 571: 315, 213: 316, 525: 317, 612: 318, 279: 319, 991: 320, 403: 321, 353: 322, 87: 323, 619: 324, 797: 325, 214: 326, 982: 327, 475: 328, 460: 329, 120: 330, 534: 331, 696: 332, 542: 333, 77: 334, 684: 335, 395: 336, 801: 337, 520: 338, 567: 339, 690: 340, 225: 341, 493: 342, 471: 343, 786: 344, 195: 345, 640: 346, 721: 347, 339: 348, 22: 349, 429: 350, 420: 351, 109: 352, 295: 353, 331: 354, 93: 355, 905: 356, 474: 357, 290: 358, 718: 359, 508: 360, 822: 361, 753: 362, 33: 363, 239: 364, 727: 365, 710: 366, 741: 367, 491: 368, 112: 369, 127: 370, 638: 371, 629: 372, 333: 373, 328: 374, 45: 375, 961: 376, 777: 377, 735: 378, 806: 379, 143: 380, 283: 381, 729: 382, 704: 383, 911: 384, 208: 385, 942: 386, 913: 387, 650: 388, 18: 389, 652: 390, 434: 391, 558: 392, 879: 393, 504: 394, 262: 395, 336: 396, 820: 397, 100: 398, 370: 399, 694: 400, 907: 401, 580: 402, 117: 403, 449: 404, 441: 405, 380: 406, 548: 407, 54: 408, 637: 409, 439: 410, 325: 411, 815: 412, 782: 413, 85: 414, 369: 415, 405: 416, 664: 417, 544: 418, 223: 419, 966: 420, 787: 421, 847: 422, 839: 423, 940: 424, 88: 425, 469: 426, 207: 427, 107: 428, 2: 429, 284: 430, 139: 431, 406: 432, 458: 433, 564: 434, 99: 435, 773: 436, 387: 437, 300: 438, 540: 439, 327: 440, 986: 441, 813: 442, 896: 443, 507: 444, 338: 445, 372: 446, 990: 447, 599: 448, 772: 449, 869: 450, 636: 451, 297: 452, 819: 453, 856: 454, 196: 455, 36: 456, 169: 457, 604: 458, 880: 459, 128: 460, 960: 461, 767: 462, 121: 463, 205: 464, 952: 465, 138: 466, 155: 467, 159: 468, 948: 469, 634: 470, 576: 471, 680: 472, 294: 473, 577: 474, 435: 475, 349: 476, 737: 477, 142: 478, 556: 479, 891: 480, 681: 481, 537: 482, 884: 483, 975: 484, 833: 485, 746: 486, 421: 487, 116: 488, 817: 489, 526: 490, 66: 491, 932: 492, 3: 493, 150: 494, 751: 495, 74: 496, 811: 497, 973: 498, 583: 499, 235: 500, 794: 501, 201: 502, 774: 503, 766: 504, 565: 505, 53: 506, 244: 507, 105: 508, 71: 509, 954: 510, 605: 511, 320: 512, 92: 513, 84: 514, 523: 515, 433: 516, 752: 517, 639: 518, 39: 519, 937: 520, 467: 521, 734: 522, 189: 523, 569: 524, 716: 525, 512: 526, 566: 527, 103: 528, 238: 529, 217: 530, 622: 531, 416: 532, 827: 533, 726: 534, 158: 535, 702: 536, 627: 537, 691: 538, 660: 539, 886: 540, 276: 541, 140: 542, 35: 543, 257: 544, 324: 545, 253: 546, 68: 547, 260: 548, 598: 549, 161: 550, 277: 551, 226: 552, 674: 553, 904: 554, 377: 555, 947: 556, 903: 557, 861: 558, 775: 559, 347: 560, 651: 561, 665: 562, 590: 563, 510: 564, 878: 565, 70: 566, 993: 567, 130: 568, 40: 569, 971: 570, 272: 571, 427: 572, 409: 573, 186: 574, 867: 575, 931: 576, 897: 577, 488: 578, 574: 579, 863: 580, 156: 581, 313: 582, 922: 583, 881: 584, 949: 585, 17: 586, 453: 587, 166: 588, 945: 589, 528: 590, 578: 591, 834: 592, 663: 593, 633: 594, 438: 595, 243: 596, 570: 597, 57: 598, 562: 599, 482: 600, 98: 601, 688: 602, 501: 603, 83: 604, 962: 605, 683: 606, 563: 607, 232: 608, 412: 609, 950: 610, 894: 611, 518: 612, 717: 613, 743: 614, 21: 615, 199: 616, 645: 617, 519: 618, 818: 619, 479: 620, 167: 621, 623: 622, 46: 623, 19: 624, 326: 625, 661: 626, 648: 627, 875: 628, 678: 629, 96: 630, 367: 631, 529: 632, 545: 633, 346: 634, 154: 635, 720: 636, 47: 637, 303: 638, 394: 639, 976: 640, 356: 641, 16: 642, 245: 643, 620: 644, 32: 645, 791: 646, 671: 647, 164: 648, 104: 649, 646: 650, 363: 651, 153: 652, 62: 653, 413: 654, 559: 655, 289: 656, 943: 657, 918: 658, 388: 659, 968: 660, 621: 661, 535: 662, 920: 663, 738: 664, 601: 665, 240: 666, 12: 667, 163: 668, 705: 669, 450: 670, 366: 671, 373: 672, 946: 673, 657: 674, 251: 675, 350: 676, 485: 677, 25: 678, 675: 679, 227: 680, 809: 681, 102: 682, 399: 683, 626: 684, 888: 685, 383: 686, 581: 687, 560: 688, 477: 689, 258: 690, 37: 691, 500: 692, 939: 693, 965: 694, 246: 695, 906: 696, 756: 697, 490: 698, 792: 699, 400: 700, 933: 701, 462: 702, 125: 703, 509: 704, 998: 705, 758: 706, 360: 707, 364: 708, 803: 709, 778: 710, 533: 711, 69: 712, 938: 713, 865: 714, 568: 715, 319: 716, 788: 717, 843: 718, 656: 719, 814: 720, 543: 721, 732: 722, 310: 723, 442: 724, 81: 725, 494: 726, 759: 727, 860: 728, 27: 729, 124: 730, 271: 731, 597: 732, 953: 733, 286: 734, 676: 735, 358: 736, 868: 737, 415: 738, 901: 739, 603: 740, 408: 741, 607: 742, 969: 743, 764: 744, 802: 745, 854: 746, 141: 747, 978: 748, 173: 749, 345: 750, 828: 751, 800: 752, 586: 753, 59: 754, 30: 755, 50: 756, 830: 757, 178: 758, 980: 759, 609: 760, 506: 761, 190: 762, 184: 763, 988: 764, 259: 765, 414: 766, 486: 767, 411: 768, 318: 769, 997: 770, 779: 771, 4: 772, 964: 773, 831: 774, 757: 775, 749: 776, 874: 777, 677: 778, 916: 779, 468: 780, 823: 781, 765: 782, 152: 783, 851: 784, 203: 785, 368: 786, 516: 787, 589: 788, 994: 789, 970: 790, 780: 791, 304: 792, 600: 793, 799: 794, 714: 795, 602: 796, 174: 797, 893: 798, 248: 799, 15: 800, 722: 801, 736: 802, 58: 803, 111: 804, 301: 805, 917: 806, 355: 807, 793: 808, 959: 809, 171: 810, 505: 811, 908: 812, 10: 813, 515: 814, 48: 815, 351: 816, 670: 817, 864: 818, 165: 819, 7: 820, 910: 821, 996: 822, 592: 823, 790: 824, 923: 825, 316: 826, 136: 827, 555: 828, 28: 829, 8: 830, 330: 831, 744: 832, 616: 833, 29: 834, 781: 835, 384: 836, 321: 837, 118: 838, 761: 839, 422: 840, 381: 841, 956: 842, 296: 843, 95: 844, 274: 845, 699: 846, 72: 847, 617: 848, 275: 849, 679: 850, 582: 851, 206: 852, 686: 853, 835: 854, 80: 855, 709: 856, 689: 857, 263: 858, 844: 859, 13: 860, 110: 861, 999: 862, 550: 863, 425: 864, 849: 865, 733: 866, 553: 867, 882: 868, 269: 869, 202: 870, 594: 871, 892: 872, 654: 873, 194: 874, 631: 875, 784: 876, 43: 877, 539: 878, 936: 879, 323: 880, 628: 881, 132: 882, 82: 883, 216: 884, 934: 885, 172: 886, 912: 887, 514: 888, 643: 889, 487: 890, 770: 891, 293: 892, 522: 893, 992: 894, 424: 895, 613: 896, 527: 897, 944: 898, 106: 899, 55: 900, 625: 901, 748: 902, 162: 903, 397: 904, 826: 905, 763: 906, 200: 907, 593: 908, 573: 909, 183: 910, 723: 911, 862: 912, 341: 913, 926: 914, 551: 915, 445: 916, 742: 917, 11: 918, 810: 919, 924: 920, 538: 921, 557: 922, 725: 923, 478: 924, 463: 925, 858: 926, 985: 927, 747: 928, 914: 929, 56: 930, 658: 931, 309: 932, 495: 933, 836: 934, 179: 935, 457: 936, 635: 937, 375: 938, 762: 939, 317: 940, 398: 941, 579: 942, 630: 943, 750: 944, 587: 945, 667: 946, 812: 947, 711: 948, 673: 949, 31: 950, 606: 951, 895: 952, 459: 953, 292: 954, 531: 955, 378: 956, 78: 957, 476: 958, 261: 959, 322: 960, 692: 961, 698: 962, 220: 963, 511: 964, 608: 965, 890: 966, 554: 967, 168: 968, 955: 969, 270: 970, 89: 971, 432: 972, 972: 973, 250: 974, 52: 975, 706: 976, 282: 977, 147: 978, 695: 979, 532: 980, 984: 981, 547: 982, 308: 983, 876: 984, 342: 985, 407: 986, 465: 987, 987: 988, 870: 989, 755: 990, 715: 991, 170: 992, 440: 993, 614: 994, 951: 995, 219: 996, 853: 997, 160: 998, 348: 999}\n"
          ]
        }
      ],
      "source": [
        "id_map = dict()\n",
        "for id,image_id in zip(range(len(imaged_id_num)),imaged_id_num) :\n",
        "  id_map[int(image_id)] = id\n",
        "\n",
        "print(id_map)"
      ]
    },
    {
      "cell_type": "code",
      "execution_count": null,
      "metadata": {
        "id": "rrCu3wKGOqot"
      },
      "outputs": [],
      "source": [
        "train_questions = questions_train\n",
        "train_answers = answers_fromUpperlimit\n",
        "train_image_id = image_id_read"
      ]
    },
    {
      "cell_type": "code",
      "execution_count": null,
      "metadata": {
        "colab": {
          "base_uri": "https://localhost:8080/"
        },
        "id": "8eHp3pVRPfP8",
        "outputId": "4b7e27d0-c091-48aa-d25c-0104d31eceeb"
      },
      "outputs": [
        {
          "output_type": "stream",
          "name": "stdout",
          "text": [
            "1000\n",
            "20523\n",
            "15556\n",
            "Epoch 1/20\n",
            "7/7 [==============================] - 15s 2s/step - loss: 157.6258 - accuracy: 0.0613 - val_loss: 91.5732 - val_accuracy: 0.2085\n",
            "Epoch 2/20\n",
            "7/7 [==============================] - 15s 2s/step - loss: 85.3761 - accuracy: 0.0747 - val_loss: 79.0570 - val_accuracy: 0.2387\n",
            "Epoch 3/20\n",
            "7/7 [==============================] - 15s 2s/step - loss: 74.4314 - accuracy: 0.1091 - val_loss: 113.0899 - val_accuracy: 0.2387\n",
            "Epoch 4/20\n",
            "7/7 [==============================] - 15s 2s/step - loss: 97.6319 - accuracy: 0.0867 - val_loss: 140.8446 - val_accuracy: 0.2387\n",
            "Epoch 5/20\n",
            "7/7 [==============================] - 15s 2s/step - loss: 108.4093 - accuracy: 0.1151 - val_loss: 151.6436 - val_accuracy: 0.2085\n",
            "Epoch 6/20\n",
            "7/7 [==============================] - 15s 2s/step - loss: 108.4789 - accuracy: 0.1046 - val_loss: 141.0266 - val_accuracy: 0.2387\n",
            "Epoch 7/20\n",
            "7/7 [==============================] - 14s 2s/step - loss: 105.1319 - accuracy: 0.0942 - val_loss: 156.2749 - val_accuracy: 0.2387\n",
            "Epoch 8/20\n",
            "7/7 [==============================] - 15s 2s/step - loss: 105.6921 - accuracy: 0.1196 - val_loss: 152.3544 - val_accuracy: 0.0091\n",
            "Epoch 9/20\n",
            "7/7 [==============================] - 14s 2s/step - loss: 105.2976 - accuracy: 0.1166 - val_loss: 141.3329 - val_accuracy: 0.2387\n",
            "Epoch 10/20\n",
            "7/7 [==============================] - 14s 2s/step - loss: 98.3118 - accuracy: 0.1106 - val_loss: 140.5112 - val_accuracy: 0.0091\n",
            "Epoch 11/20\n",
            "7/7 [==============================] - 14s 2s/step - loss: 89.4584 - accuracy: 0.1031 - val_loss: 132.7705 - val_accuracy: 0.2387\n",
            "Epoch 12/20\n",
            "7/7 [==============================] - 15s 2s/step - loss: 88.5023 - accuracy: 0.1136 - val_loss: 111.2876 - val_accuracy: 0.2085\n",
            "Epoch 13/20\n",
            "7/7 [==============================] - 14s 2s/step - loss: 78.1528 - accuracy: 0.0822 - val_loss: 110.6089 - val_accuracy: 0.2387\n",
            "Epoch 14/20\n",
            "7/7 [==============================] - 14s 2s/step - loss: 73.7690 - accuracy: 0.1286 - val_loss: 109.1630 - val_accuracy: 0.2085\n",
            "Epoch 15/20\n",
            "7/7 [==============================] - 15s 2s/step - loss: 73.6819 - accuracy: 0.1076 - val_loss: 109.2768 - val_accuracy: 0.2085\n",
            "Epoch 16/20\n",
            "7/7 [==============================] - 15s 2s/step - loss: 69.6714 - accuracy: 0.1196 - val_loss: 106.8926 - val_accuracy: 0.2085\n",
            "Epoch 17/20\n",
            "7/7 [==============================] - 14s 2s/step - loss: 66.1669 - accuracy: 0.0987 - val_loss: 110.0751 - val_accuracy: 0.2387\n",
            "Epoch 18/20\n",
            "7/7 [==============================] - 15s 2s/step - loss: 65.2027 - accuracy: 0.1091 - val_loss: 112.1179 - val_accuracy: 0.2387\n",
            "Epoch 19/20\n",
            "7/7 [==============================] - 15s 2s/step - loss: 64.9630 - accuracy: 0.1046 - val_loss: 122.7776 - val_accuracy: 0.0030\n",
            "Epoch 20/20\n",
            "7/7 [==============================] - 15s 2s/step - loss: 68.2913 - accuracy: 0.1046 - val_loss: 113.1381 - val_accuracy: 0.0091\n"
          ]
        },
        {
          "output_type": "execute_result",
          "data": {
            "text/plain": [
              "<keras.callbacks.History at 0x7fc5a8ef3310>"
            ]
          },
          "metadata": {},
          "execution_count": 165
        }
      ],
      "source": [
        "import tensorflow as tf\n",
        "tf.config.run_functions_eagerly(True)\n",
        "\n",
        "timestep = len(nlp(train_questions[-1]))\n",
        "X_ques_batch = get_questions_tensor_timeseries(train_questions, nlp, timestep)    #equivelant vector for each qutsion.\n",
        "X_img_batch = get_images_matrix(imaged_id_num, id_map, features)    #pretrained features result of vgg16 layer.\n",
        "Y_batch = get_answers_sum(train_answers, le)        #equivalent vector for most frquent answers.\n",
        "print(len(X_img_batch))\n",
        "print(len(X_ques_batch))\n",
        "print(len(Y_batch))\n",
        "model.fit([X_img_batch,X_ques_batch], Y_batch, validation_split=0.33, epochs=20, batch_size=100,verbose=1)"
      ]
    },
    {
      "cell_type": "markdown",
      "metadata": {
        "id": "-YbfzsRiZNcB"
      },
      "source": [
        ""
      ]
    },
    {
      "cell_type": "markdown",
      "metadata": {
        "id": "qNCOuaKGUKML"
      },
      "source": [
        "# **Test using validation set** \n",
        "\n",
        "---\n",
        "\n"
      ]
    },
    {
      "cell_type": "code",
      "execution_count": null,
      "metadata": {
        "colab": {
          "base_uri": "https://localhost:8080/"
        },
        "id": "lertqx0XQipI",
        "outputId": "0819a85b-9aed-4765-b9e3-00035faf2a3c"
      },
      "outputs": [
        {
          "output_type": "stream",
          "name": "stdout",
          "text": [
            "100\n",
            "['00000539', '00001363', '00001278', '00001096', '00000610', '00000280', '00000541', '00000192', '00001507', '00000682', '00000213', '00001456', '00000152', '00001250', '00000567', '00000211', '00000847', '00000504', '00001144', '00000221', '00000007', '00000002', '00001275', '00000349', '00001088', '00000225', '00001468', '00000676', '00000005', '00000102', '00000310', '00000880', '00000063', '00000744', '00000166', '00000907', '00001219', '00000559', '00000242', '00001548', '00000973', '00000214', '00000637', '00001075', '00000314', '00001288', '00000617', '00000989', '00000571', '00001332', '00001156', '00001647', '00000323', '00001311', '00001177', '00000160', '00001710', '00000171', '00001086', '00000697', '00000485', '00001251', '00001477', '00001169', '00001480', '00001592', '00001035', '00000622', '00000135', '00001321', '00001482', '00001453', '00000039', '00001305', '00000165', '00000477', '00000625', '00000930', '00000732', '00001317', '00000711', '00001397', '00001132', '00001604', '00001394', '00000864', '00000731', '00000785', '00000770', '00000817', '00000465', '00000223', '00000956', '00001409', '00001218', '00000263', '00001411', '00001253', '00000814', '00000934']\n"
          ]
        }
      ],
      "source": [
        "#Utility Method to loadImages into list from a given path parameter.\n",
        "path = \"./val_small/\"\n",
        "loadedImages_ls = []\n",
        "imaged_id_num_val = []\n",
        "imagesList = listdir(path)\n",
        "for image in imagesList:\n",
        "  imagePath = path + '/'+ image\n",
        "  loadedImages_ls.append(load_img(imagePath, target_size=(224, 224)))\n",
        "  imaged_id_num_val.append(str(Path(image).with_suffix('')).split(\"_\")[2])\n",
        "\n",
        "print(len(imaged_id_num_val))\n",
        "print(imaged_id_num_val)\n",
        "valImgs =loadedImages_ls"
      ]
    },
    {
      "cell_type": "code",
      "execution_count": null,
      "metadata": {
        "colab": {
          "base_uri": "https://localhost:8080/"
        },
        "id": "PjrU6uwHR3iG",
        "outputId": "7c07ed4a-a3be-46d3-ca33-c6a19e05c1c8"
      },
      "outputs": [
        {
          "output_type": "stream",
          "name": "stdout",
          "text": [
            "(100, 224, 224, 3)\n"
          ]
        }
      ],
      "source": [
        "valImages=[]\n",
        "for i in valImgs:\n",
        "  x = img_to_array(i)\n",
        "  #print(x.shape)\n",
        "  x = x.reshape((1, x.shape[0], x.shape[1], x.shape[2]))\n",
        "  valImages.append(x)\n",
        "  #print(x.shape)\n",
        "  x = preprocess_input(x)\n",
        "  #print(x.shape)\n",
        "  \n",
        "valImages = np.vstack(valImages)\n",
        "print(valImages.shape)"
      ]
    },
    {
      "cell_type": "code",
      "execution_count": null,
      "metadata": {
        "colab": {
          "base_uri": "https://localhost:8080/"
        },
        "id": "xacAisiyRLte",
        "outputId": "0383de4a-b02f-4048-cc76-807045055f31"
      },
      "outputs": [
        {
          "output_type": "stream",
          "name": "stdout",
          "text": [
            "[{'answer': 'unanswerable', 'answer_confidence': 'yes'}, {'answer': 'unanswerable', 'answer_confidence': 'yes'}, {'answer': 'unanswerable', 'answer_confidence': 'yes'}, {'answer': 'unanswerable', 'answer_confidence': 'yes'}, {'answer': 'unanswerable', 'answer_confidence': 'maybe'}, {'answer': 'unanswerable', 'answer_confidence': 'yes'}, {'answer': 'unanswerable', 'answer_confidence': 'yes'}, {'answer': 'unanswerable', 'answer_confidence': 'no'}, {'answer': 'cannot repair this computer automatically', 'answer_confidence': 'maybe'}, {'answer': 'blank screen', 'answer_confidence': 'yes'}]\n"
          ]
        }
      ],
      "source": [
        "questions_val=[];\n",
        "image_id_val=[];\n",
        "answers_val=[];\n",
        "for i in range(len(anno_val)):\n",
        "  questions_val.append(anno_val[i]['question'])\n",
        "  image_id_val.append(anno_val[i]['image'])\n",
        "  answers_val.append(anno_val[i]['answers'])\n",
        "\n",
        "print(answers_val[0])"
      ]
    },
    {
      "cell_type": "code",
      "execution_count": null,
      "metadata": {
        "colab": {
          "base_uri": "https://localhost:8080/"
        },
        "id": "--e_0P79eWbH",
        "outputId": "981785d3-2bc5-43b4-bb6c-e64ccfb7a7ed"
      },
      "outputs": [
        {
          "output_type": "stream",
          "name": "stdout",
          "text": [
            "Directory 'val' created successfully\n"
          ]
        }
      ],
      "source": [
        "#create val file \n",
        "import os  \n",
        "directory = \"val\"\n",
        "parent_dir = \"/content\" \n",
        "path = os.path.join(parent_dir, directory)   \n",
        "try:\n",
        "    os.makedirs(path, exist_ok = True)\n",
        "    print(\"Directory '%s' created successfully\" % directory)\n",
        "except OSError as error:\n",
        "    print(\"Directory '%s' is already existed\" % directory)  "
      ]
    },
    {
      "cell_type": "code",
      "execution_count": null,
      "metadata": {
        "id": "3QAYdm2rTje1"
      },
      "outputs": [],
      "source": [
        "# # Opening all .txt files to dump the extracted data\n",
        "# image_id_val_file = open('val/image_id_val_file.txt','wb')\n",
        "# questions_val_file = open('val/questions_val_file.txt', 'wb')\n",
        "# question_len_val_file = open('val/question_len_val_file.txt', 'wb')\n",
        "# answers_val_file = open('val/answers_val_file.txt','wb')"
      ]
    },
    {
      "cell_type": "code",
      "execution_count": null,
      "metadata": {
        "colab": {
          "base_uri": "https://localhost:8080/"
        },
        "id": "OyIU0QXFUYI5",
        "outputId": "69eecbec-103e-47d6-87a5-0b6f24d694d2"
      },
      "outputs": [
        {
          "output_type": "stream",
          "name": "stderr",
          "text": [
            "| |                                    #          | 24841 Elapsed Time: 0:17:57"
          ]
        }
      ],
      "source": [
        "questions_val_read=[]\n",
        "questions_len_val_read=[]\n",
        "answers_val_read=[]\n",
        "image_id_val_read=[]\n",
        "vgg_path_val_small = \"vgg16_featues_val_small.mat\"\n",
        "\n",
        "for index, q  in progress(zip(range(len(questions_val)),questions_val )):\n",
        "    questions_val_read.append(q)\n",
        "    questions_len_val_read.append(str(len(nlp(q))))\n",
        "    answers_val_read.append(most_freq_answer(answers_val[index]))\n",
        "    image_id_val_read.append((image_id_val[index]))"
      ]
    },
    {
      "cell_type": "code",
      "source": [
        "# for index, q  in progress(zip(range(len(questions_val)),questions_val )):\n",
        "#     questions_val_file.write((q + '\\n').encode('utf8'))\n",
        "#     question_len_val_file.write((str(len(nlp(q))) + '\\n').encode('utf8'))\n",
        "#     image_id_val_file.write((image_id_val[index]+'\\n').encode('utf8'))\n",
        "#     answers_val_file.write(most_freq_answer(answers_val[index]).encode('utf8'))\n",
        "#     answers_val_file.write('\\n'.encode('utf8'))"
      ],
      "metadata": {
        "id": "-8IoOPpdI7PD"
      },
      "execution_count": null,
      "outputs": []
    },
    {
      "cell_type": "code",
      "execution_count": null,
      "metadata": {
        "id": "6uYqx5b-VihB"
      },
      "outputs": [],
      "source": [
        "# questions_val_read = open('val/questions_val_file.txt', 'rb').read().decode('utf-8').splitlines()\n",
        "# questions_len_val_read = open('val/question_len_val_file.txt', 'rb').read().decode('utf-8').splitlines()\n",
        "# answers_val_read = open('val/answers_val_file.txt','rb').read().decode('utf-8').splitlines()\n",
        "# image_id_val_read = open('val/image_id_val_file.txt','rb').read().decode('utf-8').splitlines()\n",
        "# vgg_path_val_small = \"vgg16_featues_val_small.mat\""
      ]
    },
    {
      "cell_type": "code",
      "execution_count": null,
      "metadata": {
        "colab": {
          "base_uri": "https://localhost:8080/"
        },
        "id": "mC4mD0bkXJI7",
        "outputId": "c5b46d13-3f05-4f60-a1ce-66549d476e64"
      },
      "outputs": [
        {
          "output_type": "stream",
          "name": "stdout",
          "text": [
            "4319\n",
            "[0, 1, 2, 3, 4, 5, 6, 7, 8, 9, 10, 11, 12, 13, 14, 15, 16, 17, 18, 19, 20, 21, 22, 23, 24, 25, 26, 27, 28, 29, 30, 31, 32, 33, 34, 35, 36, 37, 38, 39, 40, 41, 42, 43, 44, 45, 46, 47, 48, 49, 50, 51, 52, 53, 54, 55, 56, 57, 58, 59, 60, 61, 62, 63, 64, 65, 66, 67, 68, 69, 70, 71, 72, 73, 74, 75, 76, 77, 78, 79, 80, 81, 82, 83, 84, 85, 86, 87, 88, 89, 90, 91, 92, 93, 94, 95, 96, 97, 98, 99, 100, 101, 102, 103, 104, 105, 106, 107, 108, 109, 110, 111, 112, 113, 114, 115, 116, 117, 118, 119, 120, 121, 122, 123, 124, 125, 126, 127, 128, 129, 130, 131, 132, 133, 134, 135, 136, 137, 138, 139, 140, 141, 142, 143, 144, 145, 146, 147, 148, 149, 150, 151, 152, 153, 154, 155, 156, 157, 158, 159, 160, 161, 162, 163, 164, 165, 166, 167, 168, 169, 170, 171, 172, 173, 174, 175, 176, 177, 178, 179, 180, 181, 182, 183, 184, 185, 186, 187, 188, 189, 190, 191, 192, 193, 194, 195, 196, 197, 198, 199, 200, 201, 202, 203, 204, 205, 206, 207, 208, 209, 210, 211, 212, 213, 214, 215, 216, 217, 218, 219, 220, 221, 222, 223, 224, 225, 226, 227, 228, 229, 230, 231, 232, 233, 234, 235, 236, 237, 238, 239, 240, 241, 242, 243, 244, 245, 246, 247, 248, 249, 250, 251, 252, 253, 254, 255, 256, 257, 258, 259, 260, 261, 262, 263, 264, 265, 266, 267, 268, 269, 270, 271, 272, 273, 274, 275, 276, 277, 278, 279, 280, 281, 282, 283, 284, 285, 286, 287, 288, 289, 290, 291, 292, 293, 294, 295, 296, 297, 298, 299, 300, 301, 302, 303, 304, 305, 306, 307, 308, 309, 310, 311, 312, 313, 314, 315, 316, 317, 318, 319, 320, 321, 322, 323, 324, 325, 326, 327, 328, 329, 330, 331, 332, 333, 334, 335, 336, 337, 338, 339, 340, 341, 342, 343, 344, 345, 346, 347, 348, 349, 350, 351, 352, 353, 354, 355, 356, 357, 358, 359, 360, 361, 362, 363, 364, 365, 366, 367, 368, 369, 370, 371, 372, 373, 374, 375, 376, 377, 378, 379, 380, 381, 382, 383, 384, 385, 386, 387, 388, 389, 390, 391, 392, 393, 394, 395, 396, 397, 398, 399, 400, 401, 402, 403, 404, 405, 406, 407, 408, 409, 410, 411, 412, 413, 414, 415, 416, 417, 418, 419, 420, 421, 422, 423, 424, 425, 426, 427, 428, 429, 430, 431, 432, 433, 434, 435, 436, 437, 438, 439, 440, 441, 442, 443, 444, 445, 446, 447, 448, 449, 450, 451, 452, 453, 454, 455, 456, 457, 458, 459, 460, 461, 462, 463, 464, 465, 466, 467, 468, 469, 470, 471, 472, 473, 474, 475, 476, 477, 478, 479, 480, 481, 482, 483, 484, 485, 486, 487, 488, 489, 490, 491, 492, 493, 494, 495, 496, 497, 498, 499, 500, 501, 502, 503, 504, 505, 506, 507, 508, 509, 510, 511, 512, 513, 514, 515, 516, 517, 518, 519, 520, 521, 522, 523, 524, 525, 526, 527, 528, 529, 530, 531, 532, 533, 534, 535, 536, 537, 538, 539, 540, 541, 542, 543, 544, 545, 546, 547, 548, 549, 550, 551, 552, 553, 554, 555, 556, 557, 558, 559, 560, 561, 562, 563, 564, 565, 566, 567, 568, 569, 570, 571, 572, 573, 574, 575, 576, 577, 578, 579, 580, 581, 582, 583, 584, 585, 586, 587, 588, 589, 590, 591, 592, 593, 594, 595, 596, 597, 598, 599, 600, 601, 602, 603, 604, 605, 606, 607, 608, 609, 610, 611, 612, 613, 614, 615, 616, 617, 618, 619, 620, 621, 622, 623, 624, 625, 626, 627, 628, 629, 630, 631, 632, 633, 634, 635, 636, 637, 638, 639, 640, 641, 642, 643, 644, 645, 646, 647, 648, 649, 650, 651, 652, 653, 654, 655, 656, 657, 658, 659, 660, 661, 662, 663, 664, 665, 666, 667, 668, 669, 670, 671, 672, 673, 674, 675, 676, 677, 678, 679, 680, 681, 682, 683, 684, 685, 686, 687, 688, 689, 690, 691, 692, 693, 694, 695, 696, 697, 698, 699, 700, 701, 702, 703, 704, 705, 706, 707, 708, 709, 710, 711, 712, 713, 714, 715, 716, 717, 718, 719, 720, 721, 722, 723, 724, 725, 726, 727, 728, 729, 730, 731, 732, 733, 734, 735, 736, 737, 738, 739, 740, 741, 742, 743, 744, 745, 746, 747, 748, 749, 750, 751, 752, 753, 754, 755, 756, 757, 758, 759, 760, 761, 762, 763, 764, 765, 766, 767, 768, 769, 770, 771, 772, 773, 774, 775, 776, 777, 778, 779, 780, 781, 782, 783, 784, 785, 786, 787, 788, 789, 790, 791, 792, 793, 794, 795, 796, 797, 798, 799, 800, 801, 802, 803, 804, 805, 806, 807, 808, 809, 810, 811, 812, 813, 814, 815, 816, 817, 818, 819, 820, 821, 822, 823, 824, 825, 826, 827, 828, 829, 830, 831, 832, 833, 834, 835, 836, 837, 838, 839, 840, 841, 842, 843, 844, 845, 846, 847, 848, 849, 850, 851, 852, 853, 854, 855, 856, 857, 858, 859, 860, 861, 862, 863, 864, 865, 866, 867, 868, 869, 870, 871, 872, 873, 874, 875, 876, 877, 878, 879, 880, 881, 882, 883, 884, 885, 886, 887, 888, 889, 890, 891, 892, 893, 894, 895, 896, 897, 898, 899, 900, 901, 902, 903, 904, 905, 906, 907, 908, 909, 910, 911, 912, 913, 914, 915, 916, 917, 918, 919, 920, 921, 922, 923, 924, 925, 926, 927, 928, 929, 930, 931, 932, 933, 934, 935, 936, 937, 938, 939, 940, 941, 942, 943, 944, 945, 946, 947, 948, 949, 950, 951, 952, 953, 954, 955, 956, 957, 958, 959, 960, 961, 962, 963, 964, 965, 966, 967, 968, 969, 970, 971, 972, 973, 974, 975, 976, 977, 978, 979, 980, 981, 982, 983, 984, 985, 986, 987, 988, 989, 990, 991, 992, 993, 994, 995, 996, 997, 998, 999, 1000, 1001, 1002, 1003, 1004, 1005, 1006, 1007, 1008, 1009, 1010, 1011, 1012, 1013, 1014, 1015, 1016, 1017, 1018, 1019, 1020, 1021, 1022, 1023, 1024, 1025, 1026, 1027, 1028, 1029, 1030, 1031, 1032, 1033, 1034, 1035, 1036, 1037, 1038, 1039, 1040, 1041, 1042, 1043, 1044, 1045, 1046, 1047, 1048, 1049, 1050, 1051, 1052, 1053, 1054, 1055, 1056, 1057, 1058, 1059, 1060, 1061, 1062, 1063, 1064, 1065, 1066, 1067, 1068, 1069, 1070, 1071, 1072, 1073, 1074, 1075, 1076, 1077, 1078, 1079, 1080, 1081, 1082, 1083, 1084, 1085, 1086, 1087, 1088, 1089, 1090, 1091, 1092, 1093, 1094, 1095, 1096, 1097, 1098, 1099, 1100, 1101, 1102, 1103, 1104, 1105, 1106, 1107, 1108, 1109, 1110, 1111, 1112, 1113, 1114, 1115, 1116, 1117, 1118, 1119, 1120, 1121, 1122, 1123, 1124, 1125, 1126, 1127, 1128, 1129, 1130, 1131, 1132, 1133, 1134, 1135, 1136, 1137, 1138, 1139, 1140, 1141, 1142, 1143, 1144, 1145, 1146, 1147, 1148, 1149, 1150, 1151, 1152, 1153, 1154, 1155, 1156, 1157, 1158, 1159, 1160, 1161, 1162, 1163, 1164, 1165, 1166, 1167, 1168, 1169, 1170, 1171, 1172, 1173, 1174, 1175, 1176, 1177, 1178, 1179, 1180, 1181, 1182, 1183, 1184, 1185, 1186, 1187, 1188, 1189, 1190, 1191, 1192, 1193, 1194, 1195, 1196, 1197, 1198, 1199, 1200, 1201, 1202, 1203, 1204, 1205, 1206, 1207, 1208, 1209, 1210, 1211, 1212, 1213, 1214, 1215, 1216, 1217, 1218, 1219, 1220, 1221, 1222, 1223, 1224, 1225, 1226, 1227, 1228, 1229, 1230, 1231, 1232, 1233, 1234, 1235, 1236, 1237, 1238, 1239, 1240, 1241, 1242, 1243, 1244, 1245, 1246, 1247, 1248, 1249, 1250, 1251, 1252, 1253, 1254, 1255, 1256, 1257, 1258, 1259, 1260, 1261, 1262, 1263, 1264, 1265, 1266, 1267, 1268, 1269, 1270, 1271, 1272, 1273, 1274, 1275, 1276, 1277, 1278, 1279, 1280, 1281, 1282, 1283, 1284, 1285, 1286, 1287, 1288, 1289, 1290, 1291, 1292, 1293, 1294, 1295, 1296, 1297, 1298, 1299, 1300, 1301, 1302, 1303, 1304, 1305, 1306, 1307, 1308, 1309, 1310, 1311, 1312, 1313, 1314, 1315, 1316, 1317, 1318, 1319, 1320, 1321, 1322, 1323, 1324, 1325, 1326, 1327, 1328, 1329, 1330, 1331, 1332, 1333, 1334, 1335, 1336, 1337, 1338, 1339, 1340, 1341, 1342, 1343, 1344, 1345, 1346, 1347, 1348, 1349, 1350, 1351, 1352, 1353, 1354, 1355, 1356, 1357, 1358, 1359, 1360, 1361, 1362, 1363, 1364, 1365, 1366, 1367, 1368, 1369, 1370, 1371, 1372, 1373, 1374, 1375, 1376, 1377, 1378, 1379, 1380, 1381, 1382, 1383, 1384, 1385, 1386, 1387, 1388, 1389, 1390, 1391, 1392, 1393, 1394, 1395, 1396, 1397, 1398, 1399, 1400, 1401, 1402, 1403, 1404, 1405, 1406, 1407, 1408, 1409, 1410, 1411, 1412, 1413, 1414, 1415, 1416, 1417, 1418, 1419, 1420, 1421, 1422, 1423, 1424, 1425, 1426, 1427, 1428, 1429, 1430, 1431, 1432, 1433, 1434, 1435, 1436, 1437, 1438, 1439, 1440, 1441, 1442, 1443, 1444, 1445, 1446, 1447, 1448, 1449, 1450, 1451, 1452, 1453, 1454, 1455, 1456, 1457, 1458, 1459, 1460, 1461, 1462, 1463, 1464, 1465, 1466, 1467, 1468, 1469, 1470, 1471, 1472, 1473, 1474, 1475, 1476, 1477, 1478, 1479, 1480, 1481, 1482, 1483, 1484, 1485, 1486, 1487, 1488, 1489, 1490, 1491, 1492, 1493, 1494, 1495, 1496, 1497, 1498, 1499, 1500, 1501, 1502, 1503, 1504, 1505, 1506, 1507, 1508, 1509, 1510, 1511, 1512, 1513, 1514, 1515, 1516, 1517, 1518, 1519, 1520, 1521, 1522, 1523, 1524, 1525, 1526, 1527, 1528, 1529, 1530, 1531, 1532, 1533, 1534, 1535, 1536, 1537, 1538, 1539, 1540, 1541, 1542, 1543, 1544, 1545, 1546, 1547, 1548, 1549, 1550, 1551, 1552, 1553, 1554, 1555, 1556, 1557, 1558, 1559, 1560, 1561, 1562, 1563, 1564, 1565, 1566, 1567, 1568, 1569, 1570, 1571, 1572, 1573, 1574, 1575, 1576, 1577, 1578, 1579, 1580, 1581, 1582, 1583, 1584, 1585, 1586, 1587, 1588, 1589, 1590, 1591, 1592, 1593, 1594, 1595, 1596, 1597, 1598, 1599, 1600, 1601, 1602, 1603, 1604, 1605, 1606, 1607, 1608, 1609, 1610, 1611, 1612, 1613, 1614, 1615, 1616, 1617, 1618, 1619, 1620, 1621, 1622, 1623, 1624, 1625, 1626, 1627, 1628, 1629, 1630, 1631, 1632, 1633, 1634, 1635, 1636, 1637, 1638, 1639, 1640, 1641, 1642, 1643, 1644, 1645, 1646, 1647, 1648, 1649, 1650, 1651, 1652, 1653, 1654, 1655, 1656, 1657, 1658, 1659, 1660, 1661, 1662, 1663, 1664, 1665, 1666, 1667, 1668, 1669, 1670, 1671, 1672, 1673, 1674, 1675, 1676, 1677, 1678, 1679, 1680, 1681, 1682, 1683, 1684, 1685, 1686, 1687, 1688, 1689, 1690, 1691, 1692, 1693, 1694, 1695, 1696, 1697, 1698, 1699, 1700, 1701, 1702, 1703, 1704, 1705, 1706, 1707, 1708, 1709, 1710, 1711, 1712, 1713, 1714, 1715, 1716, 1717, 1718, 1719, 1720, 1721, 1722, 1723, 1724, 1725, 1726, 1727, 1728, 1729, 1730, 1731, 1732, 1733, 1734, 1735, 1736, 1737, 1738, 1739, 1740, 1741, 1742, 1743, 1744, 1745, 1746, 1747, 1748, 1749, 1750, 1751, 1752, 1753, 1754, 1755, 1756, 1757, 1758, 1759, 1760, 1761, 1762, 1763, 1764, 1765, 1766, 1767, 1768, 1769, 1770, 1771, 1772, 1773, 1774, 1775, 1776, 1777, 1778, 1779, 1780, 1781, 1782, 1783, 1784, 1785, 1786, 1787, 1788, 1789, 1790, 1791, 1792, 1793, 1794, 1795, 1796, 1797, 1798, 1799, 1800, 1801, 1802, 1803, 1804, 1805, 1806, 1807, 1808, 1809, 1810, 1811, 1812, 1813, 1814, 1815, 1816, 1817, 1818, 1819, 1820, 1821, 1822, 1823, 1824, 1825, 1826, 1827, 1828, 1829, 1830, 1831, 1832, 1833, 1834, 1835, 1836, 1837, 1838, 1839, 1840, 1841, 1842, 1843, 1844, 1845, 1846, 1847, 1848, 1849, 1850, 1851, 1852, 1853, 1854, 1855, 1856, 1857, 1858, 1859, 1860, 1861, 1862, 1863, 1864, 1865, 1866, 1867, 1868, 1869, 1870, 1871, 1872, 1873, 1874, 1875, 1876, 1877, 1878, 1879, 1880, 1881, 1882, 1883, 1884, 1885, 1886, 1887, 1888, 1889, 1890, 1891, 1892, 1893, 1894, 1895, 1896, 1897, 1898, 1899, 1900, 1901, 1902, 1903, 1904, 1905, 1906, 1907, 1908, 1909, 1910, 1911, 1912, 1913, 1914, 1915, 1916, 1917, 1918, 1919, 1920, 1921, 1922, 1923, 1924, 1925, 1926, 1927, 1928, 1929, 1930, 1931, 1932, 1933, 1934, 1935, 1936, 1937, 1938, 1939, 1940, 1941, 1942, 1943, 1944, 1945, 1946, 1947, 1948, 1949, 1950, 1951, 1952, 1953, 1954, 1955, 1956, 1957, 1958, 1959, 1960, 1961, 1962, 1963, 1964, 1965, 1966, 1967, 1968, 1969, 1970, 1971, 1972, 1973, 1974, 1975, 1976, 1977, 1978, 1979, 1980, 1981, 1982, 1983, 1984, 1985, 1986, 1987, 1988, 1989, 1990, 1991, 1992, 1993, 1994, 1995, 1996, 1997, 1998, 1999, 2000, 2001, 2002, 2003, 2004, 2005, 2006, 2007, 2008, 2009, 2010, 2011, 2012, 2013, 2014, 2015, 2016, 2017, 2018, 2019, 2020, 2021, 2022, 2023, 2024, 2025, 2026, 2027, 2028, 2029, 2030, 2031, 2032, 2033, 2034, 2035, 2036, 2037, 2038, 2039, 2040, 2041, 2042, 2043, 2044, 2045, 2046, 2047, 2048, 2049, 2050, 2051, 2052, 2053, 2054, 2055, 2056, 2057, 2058, 2059, 2060, 2061, 2062, 2063, 2064, 2065, 2066, 2067, 2068, 2069, 2070, 2071, 2072, 2073, 2074, 2075, 2076, 2077, 2078, 2079, 2080, 2081, 2082, 2083, 2084, 2085, 2086, 2087, 2088, 2089, 2090, 2091, 2092, 2093, 2094, 2095, 2096, 2097, 2098, 2099, 2100, 2101, 2102, 2103, 2104, 2105, 2106, 2107, 2108, 2109, 2110, 2111, 2112, 2113, 2114, 2115, 2116, 2117, 2118, 2119, 2120, 2121, 2122, 2123, 2124, 2125, 2126, 2127, 2128, 2129, 2130, 2131, 2132, 2133, 2134, 2135, 2136, 2137, 2138, 2139, 2140, 2141, 2142, 2143, 2144, 2145, 2146, 2147, 2148, 2149, 2150, 2151, 2152, 2153, 2154, 2155, 2156, 2157, 2158, 2159, 2160, 2161, 2162, 2163, 2164, 2165, 2166, 2167, 2168, 2169, 2170, 2171, 2172, 2173, 2174, 2175, 2176, 2177, 2178, 2179, 2180, 2181, 2182, 2183, 2184, 2185, 2186, 2187, 2188, 2189, 2190, 2191, 2192, 2193, 2194, 2195, 2196, 2197, 2198, 2199, 2200, 2201, 2202, 2203, 2204, 2205, 2206, 2207, 2208, 2209, 2210, 2211, 2212, 2213, 2214, 2215, 2216, 2217, 2218, 2219, 2220, 2221, 2222, 2223, 2224, 2225, 2226, 2227, 2228, 2229, 2230, 2231, 2232, 2233, 2234, 2235, 2236, 2237, 2238, 2239, 2240, 2241, 2242, 2243, 2244, 2245, 2246, 2247, 2248, 2249, 2250, 2251, 2252, 2253, 2254, 2255, 2256, 2257, 2258, 2259, 2260, 2261, 2262, 2263, 2264, 2265, 2266, 2267, 2268, 2269, 2270, 2271, 2272, 2273, 2274, 2275, 2276, 2277, 2278, 2279, 2280, 2281, 2282, 2283, 2284, 2285, 2286, 2287, 2288, 2289, 2290, 2291, 2292, 2293, 2294, 2295, 2296, 2297, 2298, 2299, 2300, 2301, 2302, 2303, 2304, 2305, 2306, 2307, 2308, 2309, 2310, 2311, 2312, 2313, 2314, 2315, 2316, 2317, 2318, 2319, 2320, 2321, 2322, 2323, 2324, 2325, 2326, 2327, 2328, 2329, 2330, 2331, 2332, 2333, 2334, 2335, 2336, 2337, 2338, 2339, 2340, 2341, 2342, 2343, 2344, 2345, 2346, 2347, 2348, 2349, 2350, 2351, 2352, 2353, 2354, 2355, 2356, 2357, 2358, 2359, 2360, 2361, 2362, 2363, 2364, 2365, 2366, 2367, 2368, 2369, 2370, 2371, 2372, 2373, 2374, 2375, 2376, 2377, 2378, 2379, 2380, 2381, 2382, 2383, 2384, 2385, 2386, 2387, 2388, 2389, 2390, 2391, 2392, 2393, 2394, 2395, 2396, 2397, 2398, 2399, 2400, 2401, 2402, 2403, 2404, 2405, 2406, 2407, 2408, 2409, 2410, 2411, 2412, 2413, 2414, 2415, 2416, 2417, 2418, 2419, 2420, 2421, 2422, 2423, 2424, 2425, 2426, 2427, 2428, 2429, 2430, 2431, 2432, 2433, 2434, 2435, 2436, 2437, 2438, 2439, 2440, 2441, 2442, 2443, 2444, 2445, 2446, 2447, 2448, 2449, 2450, 2451, 2452, 2453, 2454, 2455, 2456, 2457, 2458, 2459, 2460, 2461, 2462, 2463, 2464, 2465, 2466, 2467, 2468, 2469, 2470, 2471, 2472, 2473, 2474, 2475, 2476, 2477, 2478, 2479, 2480, 2481, 2482, 2483, 2484, 2485, 2486, 2487, 2488, 2489, 2490, 2491, 2492, 2493, 2494, 2495, 2496, 2497, 2498, 2499, 2500, 2501, 2502, 2503, 2504, 2505, 2506, 2507, 2508, 2509, 2510, 2511, 2512, 2513, 2514, 2515, 2516, 2517, 2518, 2519, 2520, 2521, 2522, 2523, 2524, 2525, 2526, 2527, 2528, 2529, 2530, 2531, 2532, 2533, 2534, 2535, 2536, 2537, 2538, 2539, 2540, 2541, 2542, 2543, 2544, 2545, 2546, 2547, 2548, 2549, 2550, 2551, 2552, 2553, 2554, 2555, 2556, 2557, 2558, 2559, 2560, 2561, 2562, 2563, 2564, 2565, 2566, 2567, 2568, 2569, 2570, 2571, 2572, 2573, 2574, 2575, 2576, 2577, 2578, 2579, 2580, 2581, 2582, 2583, 2584, 2585, 2586, 2587, 2588, 2589, 2590, 2591, 2592, 2593, 2594, 2595, 2596, 2597, 2598, 2599, 2600, 2601, 2602, 2603, 2604, 2605, 2606, 2607, 2608, 2609, 2610, 2611, 2612, 2613, 2614, 2615, 2616, 2617, 2618, 2619, 2620, 2621, 2622, 2623, 2624, 2625, 2626, 2627, 2628, 2629, 2630, 2631, 2632, 2633, 2634, 2635, 2636, 2637, 2638, 2639, 2640, 2641, 2642, 2643, 2644, 2645, 2646, 2647, 2648, 2649, 2650, 2651, 2652, 2653, 2654, 2655, 2656, 2657, 2658, 2659, 2660, 2661, 2662, 2663, 2664, 2665, 2666, 2667, 2668, 2669, 2670, 2671, 2672, 2673, 2674, 2675, 2676, 2677, 2678, 2679, 2680, 2681, 2682, 2683, 2684, 2685, 2686, 2687, 2688, 2689, 2690, 2691, 2692, 2693, 2694, 2695, 2696, 2697, 2698, 2699, 2700, 2701, 2702, 2703, 2704, 2705, 2706, 2707, 2708, 2709, 2710, 2711, 2712, 2713, 2714, 2715, 2716, 2717, 2718, 2719, 2720, 2721, 2722, 2723, 2724, 2725, 2726, 2727, 2728, 2729, 2730, 2731, 2732, 2733, 2734, 2735, 2736, 2737, 2738, 2739, 2740, 2741, 2742, 2743, 2744, 2745, 2746, 2747, 2748, 2749, 2750, 2751, 2752, 2753, 2754, 2755, 2756, 2757, 2758, 2759, 2760, 2761, 2762, 2763, 2764, 2765, 2766, 2767, 2768, 2769, 2770, 2771, 2772, 2773, 2774, 2775, 2776, 2777, 2778, 2779, 2780, 2781, 2782, 2783, 2784, 2785, 2786, 2787, 2788, 2789, 2790, 2791, 2792, 2793, 2794, 2795, 2796, 2797, 2798, 2799, 2800, 2801, 2802, 2803, 2804, 2805, 2806, 2807, 2808, 2809, 2810, 2811, 2812, 2813, 2814, 2815, 2816, 2817, 2818, 2819, 2820, 2821, 2822, 2823, 2824, 2825, 2826, 2827, 2828, 2829, 2830, 2831, 2832, 2833, 2834, 2835, 2836, 2837, 2838, 2839, 2840, 2841, 2842, 2843, 2844, 2845, 2846, 2847, 2848, 2849, 2850, 2851, 2852, 2853, 2854, 2855, 2856, 2857, 2858, 2859, 2860, 2861, 2862, 2863, 2864, 2865, 2866, 2867, 2868, 2869, 2870, 2871, 2872, 2873, 2874, 2875, 2876, 2877, 2878, 2879, 2880, 2881, 2882, 2883, 2884, 2885, 2886, 2887, 2888, 2889, 2890, 2891, 2892, 2893, 2894, 2895, 2896, 2897, 2898, 2899, 2900, 2901, 2902, 2903, 2904, 2905, 2906, 2907, 2908, 2909, 2910, 2911, 2912, 2913, 2914, 2915, 2916, 2917, 2918, 2919, 2920, 2921, 2922, 2923, 2924, 2925, 2926, 2927, 2928, 2929, 2930, 2931, 2932, 2933, 2934, 2935, 2936, 2937, 2938, 2939, 2940, 2941, 2942, 2943, 2944, 2945, 2946, 2947, 2948, 2949, 2950, 2951, 2952, 2953, 2954, 2955, 2956, 2957, 2958, 2959, 2960, 2961, 2962, 2963, 2964, 2965, 2966, 2967, 2968, 2969, 2970, 2971, 2972, 2973, 2974, 2975, 2976, 2977, 2978, 2979, 2980, 2981, 2982, 2983, 2984, 2985, 2986, 2987, 2988, 2989, 2990, 2991, 2992, 2993, 2994, 2995, 2996, 2997, 2998, 2999, 3000, 3001, 3002, 3003, 3004, 3005, 3006, 3007, 3008, 3009, 3010, 3011, 3012, 3013, 3014, 3015, 3016, 3017, 3018, 3019, 3020, 3021, 3022, 3023, 3024, 3025, 3026, 3027, 3028, 3029, 3030, 3031, 3032, 3033, 3034, 3035, 3036, 3037, 3038, 3039, 3040, 3041, 3042, 3043, 3044, 3045, 3046, 3047, 3048, 3049, 3050, 3051, 3052, 3053, 3054, 3055, 3056, 3057, 3058, 3059, 3060, 3061, 3062, 3063, 3064, 3065, 3066, 3067, 3068, 3069, 3070, 3071, 3072, 3073, 3074, 3075, 3076, 3077, 3078, 3079, 3080, 3081, 3082, 3083, 3084, 3085, 3086, 3087, 3088, 3089, 3090, 3091, 3092, 3093, 3094, 3095, 3096, 3097, 3098, 3099, 3100, 3101, 3102, 3103, 3104, 3105, 3106, 3107, 3108, 3109, 3110, 3111, 3112, 3113, 3114, 3115, 3116, 3117, 3118, 3119, 3120, 3121, 3122, 3123, 3124, 3125, 3126, 3127, 3128, 3129, 3130, 3131, 3132, 3133, 3134, 3135, 3136, 3137, 3138, 3139, 3140, 3141, 3142, 3143, 3144, 3145, 3146, 3147, 3148, 3149, 3150, 3151, 3152, 3153, 3154, 3155, 3156, 3157, 3158, 3159, 3160, 3161, 3162, 3163, 3164, 3165, 3166, 3167, 3168, 3169, 3170, 3171, 3172, 3173, 3174, 3175, 3176, 3177, 3178, 3179, 3180, 3181, 3182, 3183, 3184, 3185, 3186, 3187, 3188, 3189, 3190, 3191, 3192, 3193, 3194, 3195, 3196, 3197, 3198, 3199, 3200, 3201, 3202, 3203, 3204, 3205, 3206, 3207, 3208, 3209, 3210, 3211, 3212, 3213, 3214, 3215, 3216, 3217, 3218, 3219, 3220, 3221, 3222, 3223, 3224, 3225, 3226, 3227, 3228, 3229, 3230, 3231, 3232, 3233, 3234, 3235, 3236, 3237, 3238, 3239, 3240, 3241, 3242, 3243, 3244, 3245, 3246, 3247, 3248, 3249, 3250, 3251, 3252, 3253, 3254, 3255, 3256, 3257, 3258, 3259, 3260, 3261, 3262, 3263, 3264, 3265, 3266, 3267, 3268, 3269, 3270, 3271, 3272, 3273, 3274, 3275, 3276, 3277, 3278, 3279, 3280, 3281, 3282, 3283, 3284, 3285, 3286, 3287, 3288, 3289, 3290, 3291, 3292, 3293, 3294, 3295, 3296, 3297, 3298, 3299, 3300, 3301, 3302, 3303, 3304, 3305, 3306, 3307, 3308, 3309, 3310, 3311, 3312, 3313, 3314, 3315, 3316, 3317, 3318, 3319, 3320, 3321, 3322, 3323, 3324, 3325, 3326, 3327, 3328, 3329, 3330, 3331, 3332, 3333, 3334, 3335, 3336, 3337, 3338, 3339, 3340, 3341, 3342, 3343, 3344, 3345, 3346, 3347, 3348, 3349, 3350, 3351, 3352, 3353, 3354, 3355, 3356, 3357, 3358, 3359, 3360, 3361, 3362, 3363, 3364, 3365, 3366, 3367, 3368, 3369, 3370, 3371, 3372, 3373, 3374, 3375, 3376, 3377, 3378, 3379, 3380, 3381, 3382, 3383, 3384, 3385, 3386, 3387, 3388, 3389, 3390, 3391, 3392, 3393, 3394, 3395, 3396, 3397, 3398, 3399, 3400, 3401, 3402, 3403, 3404, 3405, 3406, 3407, 3408, 3409, 3410, 3411, 3412, 3413, 3414, 3415, 3416, 3417, 3418, 3419, 3420, 3421, 3422, 3423, 3424, 3425, 3426, 3427, 3428, 3429, 3430, 3431, 3432, 3433, 3434, 3435, 3436, 3437, 3438, 3439, 3440, 3441, 3442, 3443, 3444, 3445, 3446, 3447, 3448, 3449, 3450, 3451, 3452, 3453, 3454, 3455, 3456, 3457, 3458, 3459, 3460, 3461, 3462, 3463, 3464, 3465, 3466, 3467, 3468, 3469, 3470, 3471, 3472, 3473, 3474, 3475, 3476, 3477, 3478, 3479, 3480, 3481, 3482, 3483, 3484, 3485, 3486, 3487, 3488, 3489, 3490, 3491, 3492, 3493, 3494, 3495, 3496, 3497, 3498, 3499, 3500, 3501, 3502, 3503, 3504, 3505, 3506, 3507, 3508, 3509, 3510, 3511, 3512, 3513, 3514, 3515, 3516, 3517, 3518, 3519, 3520, 3521, 3522, 3523, 3524, 3525, 3526, 3527, 3528, 3529, 3530, 3531, 3532, 3533, 3534, 3535, 3536, 3537, 3538, 3539, 3540, 3541, 3542, 3543, 3544, 3545, 3546, 3547, 3548, 3549, 3550, 3551, 3552, 3553, 3554, 3555, 3556, 3557, 3558, 3559, 3560, 3561, 3562, 3563, 3564, 3565, 3566, 3567, 3568, 3569, 3570, 3571, 3572, 3573, 3574, 3575, 3576, 3577, 3578, 3579, 3580, 3581, 3582, 3583, 3584, 3585, 3586, 3587, 3588, 3589, 3590, 3591, 3592, 3593, 3594, 3595, 3596, 3597, 3598, 3599, 3600, 3601, 3602, 3603, 3604, 3605, 3606, 3607, 3608, 3609, 3610, 3611, 3612, 3613, 3614, 3615, 3616, 3617, 3618, 3619, 3620, 3621, 3622, 3623, 3624, 3625, 3626, 3627, 3628, 3629, 3630, 3631, 3632, 3633, 3634, 3635, 3636, 3637, 3638, 3639, 3640, 3641, 3642, 3643, 3644, 3645, 3646, 3647, 3648, 3649, 3650, 3651, 3652, 3653, 3654, 3655, 3656, 3657, 3658, 3659, 3660, 3661, 3662, 3663, 3664, 3665, 3666, 3667, 3668, 3669, 3670, 3671, 3672, 3673, 3674, 3675, 3676, 3677, 3678, 3679, 3680, 3681, 3682, 3683, 3684, 3685, 3686, 3687, 3688, 3689, 3690, 3691, 3692, 3693, 3694, 3695, 3696, 3697, 3698, 3699, 3700, 3701, 3702, 3703, 3704, 3705, 3706, 3707, 3708, 3709, 3710, 3711, 3712, 3713, 3714, 3715, 3716, 3717, 3718, 3719, 3720, 3721, 3722, 3723, 3724, 3725, 3726, 3727, 3728, 3729, 3730, 3731, 3732, 3733, 3734, 3735, 3736, 3737, 3738, 3739, 3740, 3741, 3742, 3743, 3744, 3745, 3746, 3747, 3748, 3749, 3750, 3751, 3752, 3753, 3754, 3755, 3756, 3757, 3758, 3759, 3760, 3761, 3762, 3763, 3764, 3765, 3766, 3767, 3768, 3769, 3770, 3771, 3772, 3773, 3774, 3775, 3776, 3777, 3778, 3779, 3780, 3781, 3782, 3783, 3784, 3785, 3786, 3787, 3788, 3789, 3790, 3791, 3792, 3793, 3794, 3795, 3796, 3797, 3798, 3799, 3800, 3801, 3802, 3803, 3804, 3805, 3806, 3807, 3808, 3809, 3810, 3811, 3812, 3813, 3814, 3815, 3816, 3817, 3818, 3819, 3820, 3821, 3822, 3823, 3824, 3825, 3826, 3827, 3828, 3829, 3830, 3831, 3832, 3833, 3834, 3835, 3836, 3837, 3838, 3839, 3840, 3841, 3842, 3843, 3844, 3845, 3846, 3847, 3848, 3849, 3850, 3851, 3852, 3853, 3854, 3855, 3856, 3857, 3858, 3859, 3860, 3861, 3862, 3863, 3864, 3865, 3866, 3867, 3868, 3869, 3870, 3871, 3872, 3873, 3874, 3875, 3876, 3877, 3878, 3879, 3880, 3881, 3882, 3883, 3884, 3885, 3886, 3887, 3888, 3889, 3890, 3891, 3892, 3893, 3894, 3895, 3896, 3897, 3898, 3899, 3900, 3901, 3902, 3903, 3904, 3905, 3906, 3907, 3908, 3909, 3910, 3911, 3912, 3913, 3914, 3915, 3916, 3917, 3918, 3919, 3920, 3921, 3922, 3923, 3924, 3925, 3926, 3927, 3928, 3929, 3930, 3931, 3932, 3933, 3934, 3935, 3936, 3937, 3938, 3939, 3940, 3941, 3942, 3943, 3944, 3945, 3946, 3947, 3948, 3949, 3950, 3951, 3952, 3953, 3954, 3955, 3956, 3957, 3958, 3959, 3960, 3961, 3962, 3963, 3964, 3965, 3966, 3967, 3968, 3969, 3970, 3971, 3972, 3973, 3974, 3975, 3976, 3977, 3978, 3979, 3980, 3981, 3982, 3983, 3984, 3985, 3986, 3987, 3988, 3989, 3990, 3991, 3992, 3993, 3994, 3995, 3996, 3997, 3998, 3999, 4000, 4001, 4002, 4003, 4004, 4005, 4006, 4007, 4008, 4009, 4010, 4011, 4012, 4013, 4014, 4015, 4016, 4017, 4018, 4019, 4020, 4021, 4022, 4023, 4024, 4025, 4026, 4027, 4028, 4029, 4030, 4031, 4032, 4033, 4034, 4035, 4036, 4037, 4038, 4039, 4040, 4041, 4042, 4043, 4044, 4045, 4046, 4047, 4048, 4049, 4050, 4051, 4052, 4053, 4054, 4055, 4056, 4057, 4058, 4059, 4060, 4061, 4062, 4063, 4064, 4065, 4066, 4067, 4068, 4069, 4070, 4071, 4072, 4073, 4074, 4075, 4076, 4077, 4078, 4079, 4080, 4081, 4082, 4083, 4084, 4085, 4086, 4087, 4088, 4089, 4090, 4091, 4092, 4093, 4094, 4095, 4096, 4097, 4098, 4099, 4100, 4101, 4102, 4103, 4104, 4105, 4106, 4107, 4108, 4109, 4110, 4111, 4112, 4113, 4114, 4115, 4116, 4117, 4118, 4119, 4120, 4121, 4122, 4123, 4124, 4125, 4126, 4127, 4128, 4129, 4130, 4131, 4132, 4133, 4134, 4135, 4136, 4137, 4138, 4139, 4140, 4141, 4142, 4143, 4144, 4145, 4146, 4147, 4148, 4149, 4150, 4151, 4152, 4153, 4154, 4155, 4156, 4157, 4158, 4159, 4160, 4161, 4162, 4163, 4164, 4165, 4166, 4167, 4168, 4169, 4170, 4171, 4172, 4173, 4174, 4175, 4176, 4177, 4178, 4179, 4180, 4181, 4182, 4183, 4184, 4185, 4186, 4187, 4188, 4189, 4190, 4191, 4192, 4193, 4194, 4195, 4196, 4197, 4198, 4199, 4200, 4201, 4202, 4203, 4204, 4205, 4206, 4207, 4208, 4209, 4210, 4211, 4212, 4213, 4214, 4215, 4216, 4217, 4218, 4219, 4220, 4221, 4222, 4223, 4224, 4225, 4226, 4227, 4228, 4229, 4230, 4231, 4232, 4233, 4234, 4235, 4236, 4237, 4238, 4239, 4240, 4241, 4242, 4243, 4244, 4245, 4246, 4247, 4248, 4249, 4250, 4251, 4252, 4253, 4254, 4255, 4256, 4257, 4258, 4259, 4260, 4261, 4262, 4263, 4264, 4265, 4266, 4267, 4268, 4269, 4270, 4271, 4272, 4273, 4274, 4275, 4276, 4277, 4278, 4279, 4280, 4281, 4282, 4283, 4284, 4285, 4286, 4287, 4288, 4289, 4290, 4291, 4292, 4293, 4294, 4295, 4296, 4297, 4298, 4299, 4300, 4301, 4302, 4303, 4304, 4305, 4306, 4307, 4308, 4309, 4310, 4311, 4312, 4313, 4314, 4315, 4316, 4317, 4318]\n"
          ]
        }
      ],
      "source": [
        "imaged_id_val_num2 = []\n",
        "for i in image_id_val_read:\n",
        "  imaged_id_val_num2.append(int(str(Path(i).with_suffix('')).split(\"_\")[2]))\n",
        "print(len(imaged_id_val_num2))  \n",
        "print(imaged_id_val_num2)"
      ]
    },
    {
      "cell_type": "code",
      "execution_count": null,
      "metadata": {
        "colab": {
          "base_uri": "https://localhost:8080/"
        },
        "id": "2CZuPIbhqNZT",
        "outputId": "2e43245a-bc19-427b-801a-18305654b941"
      },
      "outputs": [
        {
          "output_type": "stream",
          "name": "stdout",
          "text": [
            "3788 3788 3788\n"
          ]
        }
      ],
      "source": [
        "upper_lim = 1000\n",
        "questionsVal, answersVal, image_idVal = freq_answers(questions_val_read, answers_val_read, image_id_val_read, upper_lim)\n",
        "questions_lenVal, questionsVal, answersVal_fromUpperlimit, image_idVal = (list(t) for t in zip(*sorted(zip(questions_len_val_read, questionsVal, answersVal, image_idVal))))\n",
        "print (len(questionsVal), len(answersVal_fromUpperlimit),len(image_idVal))"
      ]
    },
    {
      "cell_type": "code",
      "execution_count": null,
      "metadata": {
        "colab": {
          "base_uri": "https://localhost:8080/"
        },
        "id": "-TXqleqav73f",
        "outputId": "fd0cb3c5-162e-4e9a-920f-a9bcd66c0e2a"
      },
      "outputs": [
        {
          "output_type": "execute_result",
          "data": {
            "text/plain": [
              "LabelEncoder()"
            ]
          },
          "metadata": {},
          "execution_count": 157
        }
      ],
      "source": [
        "le = LabelEncoder()\n",
        "le.fit(answersVal)"
      ]
    },
    {
      "cell_type": "code",
      "execution_count": null,
      "metadata": {
        "colab": {
          "base_uri": "https://localhost:8080/"
        },
        "id": "AjOEVbCYyQyl",
        "outputId": "69c5480b-081d-4984-f366-799ffaf33982"
      },
      "outputs": [
        {
          "output_type": "stream",
          "name": "stdout",
          "text": [
            "{539: 0, 1363: 1, 1278: 2, 1096: 3, 610: 4, 280: 5, 541: 6, 192: 7, 1507: 8, 682: 9, 213: 10, 1456: 11, 152: 12, 1250: 13, 567: 14, 211: 15, 847: 16, 504: 17, 1144: 18, 221: 19, 7: 20, 2: 21, 1275: 22, 349: 23, 1088: 24, 225: 25, 1468: 26, 676: 27, 5: 28, 102: 29, 310: 30, 880: 31, 63: 32, 744: 33, 166: 34, 907: 35, 1219: 36, 559: 37, 242: 38, 1548: 39, 973: 40, 214: 41, 637: 42, 1075: 43, 314: 44, 1288: 45, 617: 46, 989: 47, 571: 48, 1332: 49, 1156: 50, 1647: 51, 323: 52, 1311: 53, 1177: 54, 160: 55, 1710: 56, 171: 57, 1086: 58, 697: 59, 485: 60, 1251: 61, 1477: 62, 1169: 63, 1480: 64, 1592: 65, 1035: 66, 622: 67, 135: 68, 1321: 69, 1482: 70, 1453: 71, 39: 72, 1305: 73, 165: 74, 477: 75, 625: 76, 930: 77, 732: 78, 1317: 79, 711: 80, 1397: 81, 1132: 82, 1604: 83, 1394: 84, 864: 85, 731: 86, 785: 87, 770: 88, 817: 89, 465: 90, 223: 91, 956: 92, 1409: 93, 1218: 94, 263: 95, 1411: 96, 1253: 97, 814: 98, 934: 99}\n"
          ]
        }
      ],
      "source": [
        "id_map1 = dict()\n",
        "for id,image_id in zip(range(len(imaged_id_num_val)),imaged_id_num_val) :\n",
        "  id_map1[int(image_id)] = id\n",
        "  \n",
        "\n",
        "print(id_map1)"
      ]
    },
    {
      "cell_type": "code",
      "execution_count": null,
      "metadata": {
        "id": "melE4bT5tWcQ"
      },
      "outputs": [],
      "source": [
        "vgg1 = scipy.io.loadmat(vgg_path_val_small)\n",
        "features1 = vgg1['features']"
      ]
    },
    {
      "cell_type": "code",
      "execution_count": null,
      "metadata": {
        "id": "6N6EtnM8iI6A",
        "colab": {
          "base_uri": "https://localhost:8080/"
        },
        "outputId": "81f5860b-3e00-4712-a01b-d7aa9c8b9e58"
      },
      "outputs": [
        {
          "output_type": "stream",
          "name": "stdout",
          "text": [
            "3800/3788 [==============================] - 135s 36ms/step\n"
          ]
        }
      ],
      "source": [
        "y_pred = []\n",
        "batch_size = 100 \n",
        "progbar = generic_utils.Progbar(len(questionsVal))\n",
        "for qu_batch,an_batch,im_batch in zip(grouped(questionsVal, batch_size,fillvalue=questionsVal[0]), \n",
        "                                  grouped(answersVal_fromUpperlimit, batch_size,fillvalue=answersVal_fromUpperlimit[0]), \n",
        "                                  grouped(imaged_id_val_num2, batch_size,fillvalue=imaged_id_val_num2[0])):\n",
        "    timesteps = len(nlp(qu_batch[-1]))\n",
        "    X_ques_batch = get_questions_tensor_timeseries(qu_batch, nlp, timesteps)\n",
        "    X_i_batch = get_images_matrix(im_batch, id_map, features1)\n",
        "    #X_batch = [X_ques_batch, X_i_batch]\n",
        "    y_predict = model.predict(({'lstm_6_input' : X_ques_batch, 'reshape_2_input' : X_i_batch}))\n",
        "    y_predict = np.argmax(y_predict,axis=1)\n",
        "    y_pred.extend(le.inverse_transform(y_predict))\n",
        "    progbar.add(batch_size)"
      ]
    },
    {
      "cell_type": "code",
      "execution_count": null,
      "metadata": {
        "id": "G2W0E6LkDA78"
      },
      "outputs": [],
      "source": [
        "correct_val = 0.0\n",
        "total = 0\n",
        "\n",
        "for pred, truth in zip(y_pred, answersVal_fromUpperlimit ):\n",
        "    t_count = 0\n",
        "    for _truth in truth.split(';'):\n",
        "        if pred == truth:\n",
        "            t_count += 1 \n",
        "    if t_count >=1:\n",
        "        correct_val +=1\n",
        "    else:\n",
        "        correct_val += float(t_count)/3\n",
        "\n",
        "    total +=1"
      ]
    },
    {
      "cell_type": "code",
      "execution_count": null,
      "metadata": {
        "id": "MS6OiKBDDDpn",
        "colab": {
          "base_uri": "https://localhost:8080/"
        },
        "outputId": "b589455b-a4de-4cb2-de0f-a7aa91c7eab2"
      },
      "outputs": [
        {
          "output_type": "stream",
          "name": "stdout",
          "text": [
            "Accuracy:  3.17 %\n"
          ]
        }
      ],
      "source": [
        "print (\"Accuracy: \", round((correct_val/total)*100,2),\"%\")"
      ]
    }
  ],
  "metadata": {
    "colab": {
      "collapsed_sections": [],
      "name": "VQA_trial1.ipynb",
      "provenance": []
    },
    "kernelspec": {
      "display_name": "Python 3",
      "name": "python3"
    },
    "language_info": {
      "name": "python"
    }
  },
  "nbformat": 4,
  "nbformat_minor": 0
}